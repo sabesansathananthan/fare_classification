{
 "cells": [
  {
   "cell_type": "code",
   "execution_count": 1,
   "metadata": {},
   "outputs": [],
   "source": [
    "import sys\n"
   ]
  },
  {
   "cell_type": "code",
   "execution_count": 2,
   "metadata": {},
   "outputs": [],
   "source": [
    "import pandas as pd"
   ]
  },
  {
   "cell_type": "code",
   "execution_count": 3,
   "metadata": {},
   "outputs": [],
   "source": [
    "import matplotlib as plt"
   ]
  },
  {
   "cell_type": "code",
   "execution_count": 4,
   "metadata": {},
   "outputs": [],
   "source": [
    "import numpy as np"
   ]
  },
  {
   "cell_type": "code",
   "execution_count": 5,
   "metadata": {},
   "outputs": [],
   "source": [
    "import scipy as sp"
   ]
  },
  {
   "cell_type": "code",
   "execution_count": 6,
   "metadata": {},
   "outputs": [],
   "source": [
    "import IPython"
   ]
  },
  {
   "cell_type": "code",
   "execution_count": 7,
   "metadata": {},
   "outputs": [],
   "source": [
    "import sklearn"
   ]
  },
  {
   "cell_type": "code",
   "execution_count": 92,
   "metadata": {},
   "outputs": [],
   "source": [
    "data = pd.DataFrame(pd.read_csv(\"train.csv\"))\n"
   ]
  },
  {
   "cell_type": "code",
   "execution_count": 93,
   "metadata": {},
   "outputs": [],
   "source": [
    "data = data.dropna()"
   ]
  },
  {
   "cell_type": "code",
   "execution_count": 94,
   "metadata": {},
   "outputs": [],
   "source": [
    "data=data.reset_index()"
   ]
  },
  {
   "cell_type": "code",
   "execution_count": 95,
   "metadata": {},
   "outputs": [
    {
     "name": "stderr",
     "output_type": "stream",
     "text": [
      "/home/sri/Desktop/sem7/ML/my_project_env/lib/python3.6/site-packages/ipykernel_launcher.py:1: DeprecationWarning: The default dtype for empty Series will be 'object' instead of 'float64' in a future version. Specify a dtype explicitly to silence this warning.\n",
      "  \"\"\"Entry point for launching an IPython kernel.\n"
     ]
    }
   ],
   "source": [
    "distance=pd.Series([])"
   ]
  },
  {
   "cell_type": "code",
   "execution_count": 96,
   "metadata": {},
   "outputs": [],
   "source": [
    "import math"
   ]
  },
  {
   "cell_type": "code",
   "execution_count": 97,
   "metadata": {},
   "outputs": [],
   "source": [
    "for i in range(len(data)):\n",
    "    \n",
    "    lat=(float(data[\"drop_lat\"][i])-float(data[\"pick_lat\"][i]))\n",
    "    lon=(float(data[\"drop_lon\"][i])-float(data[\"pick_lon\"][i]))\n",
    "    distance[i]=math.sqrt(lat**2+lon**2)\n",
    "\n",
    "    \n"
   ]
  },
  {
   "cell_type": "code",
   "execution_count": 98,
   "metadata": {},
   "outputs": [],
   "source": [
    "data[\"distance\"]=distance\n"
   ]
  },
  {
   "cell_type": "code",
   "execution_count": 99,
   "metadata": {},
   "outputs": [
    {
     "name": "stderr",
     "output_type": "stream",
     "text": [
      "/home/sri/Desktop/sem7/ML/my_project_env/lib/python3.6/site-packages/ipykernel_launcher.py:11: DeprecationWarning: The default dtype for empty Series will be 'object' instead of 'float64' in a future version. Specify a dtype explicitly to silence this warning.\n",
      "  # This is added back by InteractiveShellApp.init_path()\n"
     ]
    }
   ],
   "source": [
    "#meter_waiting_day_array=pd.Series([])\n",
    "#meter_waiting_time_array=pd.Series([])\n",
    "#meter_waiting_till_pickup_day_array=pd.Series([])\n",
    "#meter_waiting_till_pickup_time_array=pd.Series([])\n",
    "#duration_day_array=pd.Series([])\n",
    "#duration_time_array=pd.Series([])\n",
    "#week_day_array=pd.Series([])\n",
    "#holy_day_array=pd.Series([])\n",
    "#day_time_array=pd.Series([])\n",
    "#night_time_array=pd.Series([])\n",
    "time_array=pd.Series([])\n",
    "\n",
    "\n"
   ]
  },
  {
   "cell_type": "code",
   "execution_count": 100,
   "metadata": {},
   "outputs": [],
   "source": [
    "from datetime import datetime\n",
    "import calendar\n",
    "for i in range(len(data)):\n",
    "    date_pick = data[\"pickup_time\"][i]\n",
    "    date_pick = datetime.strptime(date_pick,'%m/%d/%Y %H:%M')\n",
    "    #day = calendar.day_name[date_pick.weekday()]\n",
    "    #if(day=='Saturday' or day =='Sunday'):\n",
    "        #meter_waiting_day_array[i]=0.8\n",
    "        #meter_waiting_till_pickup_day_array[i]=1\n",
    "        #duration_day_array[i]=0.8\n",
    "        #week_day_array[i]=0\n",
    "        #holy_day_array[i]=1\n",
    "\n",
    "    \n",
    "    #else:\n",
    "        #meter_waiting_day_array[i]=1\n",
    "        #meter_waiting_till_pickup_day_array[i]=0.8\n",
    "        #duration_day_array[i]=1\n",
    "        #week_day_array[i]=1\n",
    "        #holy_day_array[i]=0\n",
    "    pick_time = date_pick.hour\n",
    "    if(pick_time>=9 and pick_time<= 21):\n",
    "        #meter_waiting_time_array[i]=1\n",
    "        #meter_waiting_till_pickup_time_array[i]=0.8\n",
    "        #duration_time_array[i]=0.8\n",
    "        #day_time_array[i]=1\n",
    "        time_array[i]=1\n",
    "        \n",
    "            \n",
    "    else:\n",
    "        #meter_waiting_time_array[i]=0.8\n",
    "        #meter_waiting_till_pickup_time_array[i]=1\n",
    "        #duration_time_array[i]=1\n",
    "        \n",
    "            \n",
    "        #day_time_array[i]=0\n",
    "        time_array[i]=2\n",
    "\n",
    "        \n",
    "    \n",
    "\n",
    "    \n",
    "    \n",
    "    "
   ]
  },
  {
   "cell_type": "code",
   "execution_count": 101,
   "metadata": {},
   "outputs": [],
   "source": [
    "#data[\"meter_waiting_day_array\"]=meter_waiting_day_array\n",
    "#data[\"meter_waiting_time_array\"]=meter_waiting_time_array\n",
    "#data[\"meter_waiting_till_pickup_day_array\"]=meter_waiting_till_pickup_day_array\n",
    "#data[\"meter_waiting_till_pickup_time_array\"]=meter_waiting_till_pickup_time_array\n",
    "#data[\"duration_day_array\"]=duration_day_array\n",
    "#data[\"duration_time_array\"]=duration_time_array\n",
    "#data[\"week_day_array\"]=week_day_array\n",
    "#data[\"holy_day_array\"]=holy_day_array\n",
    "#data[\"day_time_array\"]=day_time_array\n",
    "#data[\"night_time_array\"]=night_time_array\n",
    "data[\"time_array\"]=time_array\n",
    "\n"
   ]
  },
  {
   "cell_type": "code",
   "execution_count": 138,
   "metadata": {},
   "outputs": [],
   "source": [
    "import seaborn as sns\n"
   ]
  },
  {
   "cell_type": "code",
   "execution_count": 114,
   "metadata": {},
   "outputs": [
    {
     "data": {
      "image/png": "[encoded data removed]",
      "text/plain": [
       "<Figure size 360x360 with 1 Axes>"
      ]
     },
     "metadata": {
      "needs_background": "light"
     },
     "output_type": "display_data"
    }
   ],
   "source": [
    "k=sns.lmplot(x=\"duration\",y=\"fare\",data=data)\n",
    "#k.set(xlim=(0,7500))\n",
    "#k.set(ylim=(0,2000))"
   ]
  },
  {
   "cell_type": "code",
   "execution_count": 102,
   "metadata": {},
   "outputs": [],
   "source": [
    "data=data.drop(columns=[\"tripid\"])"
   ]
  },
  {
   "cell_type": "code",
   "execution_count": 103,
   "metadata": {},
   "outputs": [],
   "source": [
    "data=data.drop(columns=[\"pickup_time\",\"drop_time\"])"
   ]
  },
  {
   "cell_type": "code",
   "execution_count": 20,
   "metadata": {},
   "outputs": [],
   "source": [
    "data=data.drop(columns=[\"additional_fare\"])"
   ]
  },
  {
   "cell_type": "code",
   "execution_count": 20,
   "metadata": {},
   "outputs": [],
   "source": [
    "%matplotlib inline\n"
   ]
  },
  {
   "cell_type": "code",
   "execution_count": 104,
   "metadata": {},
   "outputs": [],
   "source": [
    "data=data.drop(columns=[\"pick_lat\",\"pick_lon\",\"drop_lat\",\"drop_lon\"])"
   ]
  },
  {
   "cell_type": "code",
   "execution_count": 105,
   "metadata": {},
   "outputs": [],
   "source": [
    "data=data.drop(columns=[\"index\"])"
   ]
  },
  {
   "cell_type": "code",
   "execution_count": 106,
   "metadata": {},
   "outputs": [],
   "source": [
    "y = np.array(data[\"label\"])"
   ]
  },
  {
   "cell_type": "code",
   "execution_count": 107,
   "metadata": {},
   "outputs": [],
   "source": [
    "data = data.drop(columns=[\"label\"])"
   ]
  },
  {
   "cell_type": "code",
   "execution_count": 56,
   "metadata": {},
   "outputs": [],
   "source": [
    "data = data[['duration', 'meter_waiting','meter_waiting_till_pickup','meter_waiting_fare','additional_fare','week_day_array',\"holy_day_array\",'day_time_array', 'night_time_array','distance', 'fare',\"label\"]]"
   ]
  },
  {
   "cell_type": "code",
   "execution_count": 489,
   "metadata": {},
   "outputs": [],
   "source": [
    "data2 = data1[['duration','meter_waiting','meter_waiting_till_pickup','meter_waiting_fare','day_time_array', 'night_time_array', 'distance']]"
   ]
  },
  {
   "cell_type": "code",
   "execution_count": 57,
   "metadata": {},
   "outputs": [],
   "source": [
    "data.to_csv(\"sri.csv\" ,index=False)"
   ]
  },
  {
   "cell_type": "code",
   "execution_count": 108,
   "metadata": {},
   "outputs": [
    {
     "data": {
      "text/html": [
       "<div>\n",
       "<style scoped>\n",
       "    .dataframe tbody tr th:only-of-type {\n",
       "        vertical-align: middle;\n",
       "    }\n",
       "\n",
       "    .dataframe tbody tr th {\n",
       "        vertical-align: top;\n",
       "    }\n",
       "\n",
       "    .dataframe thead th {\n",
       "        text-align: right;\n",
       "    }\n",
       "</style>\n",
       "<table border=\"1\" class=\"dataframe\">\n",
       "  <thead>\n",
       "    <tr style=\"text-align: right;\">\n",
       "      <th></th>\n",
       "      <th>additional_fare</th>\n",
       "      <th>duration</th>\n",
       "      <th>meter_waiting</th>\n",
       "      <th>meter_waiting_fare</th>\n",
       "      <th>meter_waiting_till_pickup</th>\n",
       "      <th>fare</th>\n",
       "      <th>distance</th>\n",
       "      <th>time_array</th>\n",
       "    </tr>\n",
       "  </thead>\n",
       "  <tbody>\n",
       "    <tr>\n",
       "      <th>0</th>\n",
       "      <td>10.5</td>\n",
       "      <td>834.0</td>\n",
       "      <td>56.0</td>\n",
       "      <td>0.0000</td>\n",
       "      <td>64.0</td>\n",
       "      <td>270.32</td>\n",
       "      <td>0.045869</td>\n",
       "      <td>2</td>\n",
       "    </tr>\n",
       "    <tr>\n",
       "      <th>1</th>\n",
       "      <td>10.5</td>\n",
       "      <td>791.0</td>\n",
       "      <td>47.0</td>\n",
       "      <td>0.0000</td>\n",
       "      <td>134.0</td>\n",
       "      <td>197.85</td>\n",
       "      <td>0.028500</td>\n",
       "      <td>2</td>\n",
       "    </tr>\n",
       "    <tr>\n",
       "      <th>2</th>\n",
       "      <td>10.5</td>\n",
       "      <td>1087.0</td>\n",
       "      <td>80.0</td>\n",
       "      <td>0.0000</td>\n",
       "      <td>61.0</td>\n",
       "      <td>301.64</td>\n",
       "      <td>0.057019</td>\n",
       "      <td>2</td>\n",
       "    </tr>\n",
       "    <tr>\n",
       "      <th>3</th>\n",
       "      <td>10.5</td>\n",
       "      <td>598.0</td>\n",
       "      <td>271.0</td>\n",
       "      <td>15.6638</td>\n",
       "      <td>68.0</td>\n",
       "      <td>82.30</td>\n",
       "      <td>0.007806</td>\n",
       "      <td>2</td>\n",
       "    </tr>\n",
       "    <tr>\n",
       "      <th>4</th>\n",
       "      <td>10.5</td>\n",
       "      <td>3407.0</td>\n",
       "      <td>182.0</td>\n",
       "      <td>0.0000</td>\n",
       "      <td>112.0</td>\n",
       "      <td>1065.02</td>\n",
       "      <td>0.217734</td>\n",
       "      <td>2</td>\n",
       "    </tr>\n",
       "    <tr>\n",
       "      <th>...</th>\n",
       "      <td>...</td>\n",
       "      <td>...</td>\n",
       "      <td>...</td>\n",
       "      <td>...</td>\n",
       "      <td>...</td>\n",
       "      <td>...</td>\n",
       "      <td>...</td>\n",
       "      <td>...</td>\n",
       "    </tr>\n",
       "    <tr>\n",
       "      <th>16961</th>\n",
       "      <td>10.5</td>\n",
       "      <td>838.0</td>\n",
       "      <td>93.0</td>\n",
       "      <td>5.4219</td>\n",
       "      <td>451.0</td>\n",
       "      <td>198.26</td>\n",
       "      <td>0.019087</td>\n",
       "      <td>2</td>\n",
       "    </tr>\n",
       "    <tr>\n",
       "      <th>16962</th>\n",
       "      <td>10.5</td>\n",
       "      <td>2151.0</td>\n",
       "      <td>428.0</td>\n",
       "      <td>0.0000</td>\n",
       "      <td>39.0</td>\n",
       "      <td>581.23</td>\n",
       "      <td>0.098307</td>\n",
       "      <td>2</td>\n",
       "    </tr>\n",
       "    <tr>\n",
       "      <th>16963</th>\n",
       "      <td>10.5</td>\n",
       "      <td>263.0</td>\n",
       "      <td>9.0</td>\n",
       "      <td>0.0000</td>\n",
       "      <td>110.0</td>\n",
       "      <td>76.20</td>\n",
       "      <td>0.009405</td>\n",
       "      <td>2</td>\n",
       "    </tr>\n",
       "    <tr>\n",
       "      <th>16964</th>\n",
       "      <td>10.5</td>\n",
       "      <td>858.0</td>\n",
       "      <td>115.0</td>\n",
       "      <td>0.0000</td>\n",
       "      <td>317.0</td>\n",
       "      <td>133.31</td>\n",
       "      <td>0.026057</td>\n",
       "      <td>2</td>\n",
       "    </tr>\n",
       "    <tr>\n",
       "      <th>16965</th>\n",
       "      <td>10.5</td>\n",
       "      <td>262.0</td>\n",
       "      <td>21.0</td>\n",
       "      <td>1.2243</td>\n",
       "      <td>23.0</td>\n",
       "      <td>98.57</td>\n",
       "      <td>0.019155</td>\n",
       "      <td>2</td>\n",
       "    </tr>\n",
       "  </tbody>\n",
       "</table>\n",
       "<p>16966 rows × 8 columns</p>\n",
       "</div>"
      ],
      "text/plain": [
       "       additional_fare  duration  meter_waiting  meter_waiting_fare  \\\n",
       "0                 10.5     834.0           56.0              0.0000   \n",
       "1                 10.5     791.0           47.0              0.0000   \n",
       "2                 10.5    1087.0           80.0              0.0000   \n",
       "3                 10.5     598.0          271.0             15.6638   \n",
       "4                 10.5    3407.0          182.0              0.0000   \n",
       "...                ...       ...            ...                 ...   \n",
       "16961             10.5     838.0           93.0              5.4219   \n",
       "16962             10.5    2151.0          428.0              0.0000   \n",
       "16963             10.5     263.0            9.0              0.0000   \n",
       "16964             10.5     858.0          115.0              0.0000   \n",
       "16965             10.5     262.0           21.0              1.2243   \n",
       "\n",
       "       meter_waiting_till_pickup     fare  distance  time_array  \n",
       "0                           64.0   270.32  0.045869           2  \n",
       "1                          134.0   197.85  0.028500           2  \n",
       "2                           61.0   301.64  0.057019           2  \n",
       "3                           68.0    82.30  0.007806           2  \n",
       "4                          112.0  1065.02  0.217734           2  \n",
       "...                          ...      ...       ...         ...  \n",
       "16961                      451.0   198.26  0.019087           2  \n",
       "16962                       39.0   581.23  0.098307           2  \n",
       "16963                      110.0    76.20  0.009405           2  \n",
       "16964                      317.0   133.31  0.026057           2  \n",
       "16965                       23.0    98.57  0.019155           2  \n",
       "\n",
       "[16966 rows x 8 columns]"
      ]
     },
     "execution_count": 108,
     "metadata": {},
     "output_type": "execute_result"
    }
   ],
   "source": [
    "data"
   ]
  },
  {
   "cell_type": "code",
   "execution_count": 109,
   "metadata": {},
   "outputs": [
    {
     "name": "stderr",
     "output_type": "stream",
     "text": [
      "/home/sri/Desktop/sem7/ML/my_project_env/lib/python3.6/site-packages/ipykernel_launcher.py:1: DeprecationWarning: The default dtype for empty Series will be 'object' instead of 'float64' in a future version. Specify a dtype explicitly to silence this warning.\n",
      "  \"\"\"Entry point for launching an IPython kernel.\n",
      "/home/sri/Desktop/sem7/ML/my_project_env/lib/python3.6/site-packages/ipykernel_launcher.py:2: DeprecationWarning: The default dtype for empty Series will be 'object' instead of 'float64' in a future version. Specify a dtype explicitly to silence this warning.\n",
      "  \n"
     ]
    }
   ],
   "source": [
    "running_duration=pd.Series([])\n",
    "actual_fare = pd.Series([])"
   ]
  },
  {
   "cell_type": "code",
   "execution_count": 110,
   "metadata": {},
   "outputs": [],
   "source": [
    "for i in range(len(data)):\n",
    "    \n",
    "    runningDuration = data[\"duration\"][i]-data[\"meter_waiting\"][i]\n",
    "    actualFare = data[\"fare\"][i]-data[\"meter_waiting_fare\"][i]-data[\"additional_fare\"][i]\n",
    "    \n",
    "    if(runningDuration>=0):\n",
    "        running_duration[i]=runningDuration\n",
    "    else:\n",
    "        running_duration[i]=0\n",
    "    actual_fare[i]=actualFare"
   ]
  },
  {
   "cell_type": "code",
   "execution_count": 111,
   "metadata": {},
   "outputs": [],
   "source": [
    "data[\"running_duration\"]=running_duration\n",
    "data[\"actual_fare\"]=actual_fare"
   ]
  },
  {
   "cell_type": "code",
   "execution_count": 112,
   "metadata": {},
   "outputs": [
    {
     "data": {
      "text/html": [
       "<div>\n",
       "<style scoped>\n",
       "    .dataframe tbody tr th:only-of-type {\n",
       "        vertical-align: middle;\n",
       "    }\n",
       "\n",
       "    .dataframe tbody tr th {\n",
       "        vertical-align: top;\n",
       "    }\n",
       "\n",
       "    .dataframe thead th {\n",
       "        text-align: right;\n",
       "    }\n",
       "</style>\n",
       "<table border=\"1\" class=\"dataframe\">\n",
       "  <thead>\n",
       "    <tr style=\"text-align: right;\">\n",
       "      <th></th>\n",
       "      <th>additional_fare</th>\n",
       "      <th>duration</th>\n",
       "      <th>meter_waiting</th>\n",
       "      <th>meter_waiting_fare</th>\n",
       "      <th>meter_waiting_till_pickup</th>\n",
       "      <th>fare</th>\n",
       "      <th>distance</th>\n",
       "      <th>time_array</th>\n",
       "      <th>running_duration</th>\n",
       "      <th>actual_fare</th>\n",
       "    </tr>\n",
       "  </thead>\n",
       "  <tbody>\n",
       "    <tr>\n",
       "      <th>0</th>\n",
       "      <td>10.5</td>\n",
       "      <td>834.0</td>\n",
       "      <td>56.0</td>\n",
       "      <td>0.0000</td>\n",
       "      <td>64.0</td>\n",
       "      <td>270.32</td>\n",
       "      <td>0.045869</td>\n",
       "      <td>2</td>\n",
       "      <td>778.0</td>\n",
       "      <td>259.8200</td>\n",
       "    </tr>\n",
       "    <tr>\n",
       "      <th>1</th>\n",
       "      <td>10.5</td>\n",
       "      <td>791.0</td>\n",
       "      <td>47.0</td>\n",
       "      <td>0.0000</td>\n",
       "      <td>134.0</td>\n",
       "      <td>197.85</td>\n",
       "      <td>0.028500</td>\n",
       "      <td>2</td>\n",
       "      <td>744.0</td>\n",
       "      <td>187.3500</td>\n",
       "    </tr>\n",
       "    <tr>\n",
       "      <th>2</th>\n",
       "      <td>10.5</td>\n",
       "      <td>1087.0</td>\n",
       "      <td>80.0</td>\n",
       "      <td>0.0000</td>\n",
       "      <td>61.0</td>\n",
       "      <td>301.64</td>\n",
       "      <td>0.057019</td>\n",
       "      <td>2</td>\n",
       "      <td>1007.0</td>\n",
       "      <td>291.1400</td>\n",
       "    </tr>\n",
       "    <tr>\n",
       "      <th>3</th>\n",
       "      <td>10.5</td>\n",
       "      <td>598.0</td>\n",
       "      <td>271.0</td>\n",
       "      <td>15.6638</td>\n",
       "      <td>68.0</td>\n",
       "      <td>82.30</td>\n",
       "      <td>0.007806</td>\n",
       "      <td>2</td>\n",
       "      <td>327.0</td>\n",
       "      <td>56.1362</td>\n",
       "    </tr>\n",
       "    <tr>\n",
       "      <th>4</th>\n",
       "      <td>10.5</td>\n",
       "      <td>3407.0</td>\n",
       "      <td>182.0</td>\n",
       "      <td>0.0000</td>\n",
       "      <td>112.0</td>\n",
       "      <td>1065.02</td>\n",
       "      <td>0.217734</td>\n",
       "      <td>2</td>\n",
       "      <td>3225.0</td>\n",
       "      <td>1054.5200</td>\n",
       "    </tr>\n",
       "    <tr>\n",
       "      <th>...</th>\n",
       "      <td>...</td>\n",
       "      <td>...</td>\n",
       "      <td>...</td>\n",
       "      <td>...</td>\n",
       "      <td>...</td>\n",
       "      <td>...</td>\n",
       "      <td>...</td>\n",
       "      <td>...</td>\n",
       "      <td>...</td>\n",
       "      <td>...</td>\n",
       "    </tr>\n",
       "    <tr>\n",
       "      <th>16961</th>\n",
       "      <td>10.5</td>\n",
       "      <td>838.0</td>\n",
       "      <td>93.0</td>\n",
       "      <td>5.4219</td>\n",
       "      <td>451.0</td>\n",
       "      <td>198.26</td>\n",
       "      <td>0.019087</td>\n",
       "      <td>2</td>\n",
       "      <td>745.0</td>\n",
       "      <td>182.3381</td>\n",
       "    </tr>\n",
       "    <tr>\n",
       "      <th>16962</th>\n",
       "      <td>10.5</td>\n",
       "      <td>2151.0</td>\n",
       "      <td>428.0</td>\n",
       "      <td>0.0000</td>\n",
       "      <td>39.0</td>\n",
       "      <td>581.23</td>\n",
       "      <td>0.098307</td>\n",
       "      <td>2</td>\n",
       "      <td>1723.0</td>\n",
       "      <td>570.7300</td>\n",
       "    </tr>\n",
       "    <tr>\n",
       "      <th>16963</th>\n",
       "      <td>10.5</td>\n",
       "      <td>263.0</td>\n",
       "      <td>9.0</td>\n",
       "      <td>0.0000</td>\n",
       "      <td>110.0</td>\n",
       "      <td>76.20</td>\n",
       "      <td>0.009405</td>\n",
       "      <td>2</td>\n",
       "      <td>254.0</td>\n",
       "      <td>65.7000</td>\n",
       "    </tr>\n",
       "    <tr>\n",
       "      <th>16964</th>\n",
       "      <td>10.5</td>\n",
       "      <td>858.0</td>\n",
       "      <td>115.0</td>\n",
       "      <td>0.0000</td>\n",
       "      <td>317.0</td>\n",
       "      <td>133.31</td>\n",
       "      <td>0.026057</td>\n",
       "      <td>2</td>\n",
       "      <td>743.0</td>\n",
       "      <td>122.8100</td>\n",
       "    </tr>\n",
       "    <tr>\n",
       "      <th>16965</th>\n",
       "      <td>10.5</td>\n",
       "      <td>262.0</td>\n",
       "      <td>21.0</td>\n",
       "      <td>1.2243</td>\n",
       "      <td>23.0</td>\n",
       "      <td>98.57</td>\n",
       "      <td>0.019155</td>\n",
       "      <td>2</td>\n",
       "      <td>241.0</td>\n",
       "      <td>86.8457</td>\n",
       "    </tr>\n",
       "  </tbody>\n",
       "</table>\n",
       "<p>16966 rows × 10 columns</p>\n",
       "</div>"
      ],
      "text/plain": [
       "       additional_fare  duration  meter_waiting  meter_waiting_fare  \\\n",
       "0                 10.5     834.0           56.0              0.0000   \n",
       "1                 10.5     791.0           47.0              0.0000   \n",
       "2                 10.5    1087.0           80.0              0.0000   \n",
       "3                 10.5     598.0          271.0             15.6638   \n",
       "4                 10.5    3407.0          182.0              0.0000   \n",
       "...                ...       ...            ...                 ...   \n",
       "16961             10.5     838.0           93.0              5.4219   \n",
       "16962             10.5    2151.0          428.0              0.0000   \n",
       "16963             10.5     263.0            9.0              0.0000   \n",
       "16964             10.5     858.0          115.0              0.0000   \n",
       "16965             10.5     262.0           21.0              1.2243   \n",
       "\n",
       "       meter_waiting_till_pickup     fare  distance  time_array  \\\n",
       "0                           64.0   270.32  0.045869           2   \n",
       "1                          134.0   197.85  0.028500           2   \n",
       "2                           61.0   301.64  0.057019           2   \n",
       "3                           68.0    82.30  0.007806           2   \n",
       "4                          112.0  1065.02  0.217734           2   \n",
       "...                          ...      ...       ...         ...   \n",
       "16961                      451.0   198.26  0.019087           2   \n",
       "16962                       39.0   581.23  0.098307           2   \n",
       "16963                      110.0    76.20  0.009405           2   \n",
       "16964                      317.0   133.31  0.026057           2   \n",
       "16965                       23.0    98.57  0.019155           2   \n",
       "\n",
       "       running_duration  actual_fare  \n",
       "0                 778.0     259.8200  \n",
       "1                 744.0     187.3500  \n",
       "2                1007.0     291.1400  \n",
       "3                 327.0      56.1362  \n",
       "4                3225.0    1054.5200  \n",
       "...                 ...          ...  \n",
       "16961             745.0     182.3381  \n",
       "16962            1723.0     570.7300  \n",
       "16963             254.0      65.7000  \n",
       "16964             743.0     122.8100  \n",
       "16965             241.0      86.8457  \n",
       "\n",
       "[16966 rows x 10 columns]"
      ]
     },
     "execution_count": 112,
     "metadata": {},
     "output_type": "execute_result"
    }
   ],
   "source": [
    "data"
   ]
  },
  {
   "cell_type": "code",
   "execution_count": 168,
   "metadata": {},
   "outputs": [
    {
     "name": "stderr",
     "output_type": "stream",
     "text": [
      "/home/sri/Desktop/sem7/ML/my_project_env/lib/python3.6/site-packages/ipykernel_launcher.py:1: DeprecationWarning: The default dtype for empty Series will be 'object' instead of 'float64' in a future version. Specify a dtype explicitly to silence this warning.\n",
      "  \"\"\"Entry point for launching an IPython kernel.\n",
      "/home/sri/Desktop/sem7/ML/my_project_env/lib/python3.6/site-packages/ipykernel_launcher.py:2: DeprecationWarning: The default dtype for empty Series will be 'object' instead of 'float64' in a future version. Specify a dtype explicitly to silence this warning.\n",
      "  \n",
      "/home/sri/Desktop/sem7/ML/my_project_env/lib/python3.6/site-packages/ipykernel_launcher.py:3: DeprecationWarning: The default dtype for empty Series will be 'object' instead of 'float64' in a future version. Specify a dtype explicitly to silence this warning.\n",
      "  This is separate from the ipykernel package so we can avoid doing imports until\n",
      "/home/sri/Desktop/sem7/ML/my_project_env/lib/python3.6/site-packages/ipykernel_launcher.py:4: DeprecationWarning: The default dtype for empty Series will be 'object' instead of 'float64' in a future version. Specify a dtype explicitly to silence this warning.\n",
      "  after removing the cwd from sys.path.\n",
      "/home/sri/Desktop/sem7/ML/my_project_env/lib/python3.6/site-packages/ipykernel_launcher.py:5: DeprecationWarning: The default dtype for empty Series will be 'object' instead of 'float64' in a future version. Specify a dtype explicitly to silence this warning.\n",
      "  \"\"\"\n"
     ]
    }
   ],
   "source": [
    "distance_running_duration=pd.Series([])\n",
    "diatance_fare=pd.Series([])\n",
    "fare_running_duration=pd.Series([])\n",
    "total_waiting_fare=pd.Series([])\n",
    "time_fare=pd.Series([])\n"
   ]
  },
  {
   "cell_type": "code",
   "execution_count": 169,
   "metadata": {},
   "outputs": [],
   "source": [
    "for i in range(len(data)):\n",
    "    if(data[\"running_duration\"][i]!=0):\n",
    "        distanceOverDuration=data[\"distance\"][i]/data[\"running_duration\"][i]\n",
    "        distance_running_duration[i]=distanceOverDuration\n",
    "    else:\n",
    "        distance_running_duration[i]=data[\"distance\"][i]\n",
    "    if(data[\"actual_fare\"][i]!=0):\n",
    "        diatance_fare[i]=data[\"distance\"][i]/data[\"actual_fare\"][i]\n",
    "    else:\n",
    "        diatance_fare[i]=data[\"distance\"][i]\n",
    "    if(data[\"running_duration\"][i]!=0):\n",
    "        fare_running_duration[i]=data[\"actual_fare\"][i]/data[\"running_duration\"][i]\n",
    "    else:\n",
    "        fare_running_duration[i]=data[\"actual_fare\"][i]\n",
    "        \n",
    "    if(data[\"meter_waiting\"][i]+data[\"meter_waiting_till_pickup\"][i]!=0):\n",
    "        total_waiting_fare[i]=data[\"actual_fare\"][i]/(data[\"meter_waiting\"][i]+data[\"meter_waiting_till_pickup\"][i])\n",
    "    else:\n",
    "        total_waiting_fare[i]=data[\"actual_fare\"][i]\n",
    "    time_fare[i]=data[\"time_array\"][i]*data[\"actual_fare\"][i]\n",
    "#        \n",
    "data[\"distance_running_duration\"]=distance_running_duration\n",
    "data[\"diatance_fare\"]=diatance_fare\n",
    "data[\"fare_running_duration\"]=fare_running_duration\n",
    "data[\"total_waiting_fare\"]=meter_waiting_fare\n",
    "data[\"time_fare\"]=time_fare\n"
   ]
  },
  {
   "cell_type": "code",
   "execution_count": 219,
   "metadata": {},
   "outputs": [],
   "source": [
    "data1 = data.drop(columns=[\"time_array\",\"time_fare\",\"additional_fare\",\"actual_fare\",\"meter_waiting_fare\"])\n"
   ]
  },
  {
   "cell_type": "code",
   "execution_count": 222,
   "metadata": {},
   "outputs": [],
   "source": [
    "#data3 = data[['distance','running_duration','meter_waiting_till_pickup',\"meter_waiting\",'meter_waiting_fare',\"week_day_array\",\"holy_day_array\",'day_time_array','night_time_array','actual_fare']]"
   ]
  },
  {
   "cell_type": "code",
   "execution_count": 220,
   "metadata": {},
   "outputs": [
    {
     "data": {
      "text/html": [
       "<div>\n",
       "<style scoped>\n",
       "    .dataframe tbody tr th:only-of-type {\n",
       "        vertical-align: middle;\n",
       "    }\n",
       "\n",
       "    .dataframe tbody tr th {\n",
       "        vertical-align: top;\n",
       "    }\n",
       "\n",
       "    .dataframe thead th {\n",
       "        text-align: right;\n",
       "    }\n",
       "</style>\n",
       "<table border=\"1\" class=\"dataframe\">\n",
       "  <thead>\n",
       "    <tr style=\"text-align: right;\">\n",
       "      <th></th>\n",
       "      <th>duration</th>\n",
       "      <th>meter_waiting</th>\n",
       "      <th>meter_waiting_till_pickup</th>\n",
       "      <th>fare</th>\n",
       "      <th>distance</th>\n",
       "      <th>running_duration</th>\n",
       "      <th>distance_running_duration</th>\n",
       "      <th>diatance_fare</th>\n",
       "      <th>fare_running_duration</th>\n",
       "      <th>total_waiting_fare</th>\n",
       "    </tr>\n",
       "  </thead>\n",
       "  <tbody>\n",
       "    <tr>\n",
       "      <th>0</th>\n",
       "      <td>834.0</td>\n",
       "      <td>56.0</td>\n",
       "      <td>64.0</td>\n",
       "      <td>270.32</td>\n",
       "      <td>0.045869</td>\n",
       "      <td>778.0</td>\n",
       "      <td>0.000059</td>\n",
       "      <td>0.000177</td>\n",
       "      <td>0.333959</td>\n",
       "      <td>1.454323</td>\n",
       "    </tr>\n",
       "    <tr>\n",
       "      <th>1</th>\n",
       "      <td>791.0</td>\n",
       "      <td>47.0</td>\n",
       "      <td>134.0</td>\n",
       "      <td>197.85</td>\n",
       "      <td>0.028500</td>\n",
       "      <td>744.0</td>\n",
       "      <td>0.000038</td>\n",
       "      <td>0.000152</td>\n",
       "      <td>0.251815</td>\n",
       "      <td>17.136937</td>\n",
       "    </tr>\n",
       "    <tr>\n",
       "      <th>2</th>\n",
       "      <td>1087.0</td>\n",
       "      <td>80.0</td>\n",
       "      <td>61.0</td>\n",
       "      <td>301.64</td>\n",
       "      <td>0.057019</td>\n",
       "      <td>1007.0</td>\n",
       "      <td>0.000057</td>\n",
       "      <td>0.000196</td>\n",
       "      <td>0.289116</td>\n",
       "      <td>1.369932</td>\n",
       "    </tr>\n",
       "    <tr>\n",
       "      <th>3</th>\n",
       "      <td>598.0</td>\n",
       "      <td>271.0</td>\n",
       "      <td>68.0</td>\n",
       "      <td>82.30</td>\n",
       "      <td>0.007806</td>\n",
       "      <td>327.0</td>\n",
       "      <td>0.000024</td>\n",
       "      <td>0.000139</td>\n",
       "      <td>0.171670</td>\n",
       "      <td>0.672056</td>\n",
       "    </tr>\n",
       "    <tr>\n",
       "      <th>4</th>\n",
       "      <td>3407.0</td>\n",
       "      <td>182.0</td>\n",
       "      <td>112.0</td>\n",
       "      <td>1065.02</td>\n",
       "      <td>0.217734</td>\n",
       "      <td>3225.0</td>\n",
       "      <td>0.000068</td>\n",
       "      <td>0.000206</td>\n",
       "      <td>0.326983</td>\n",
       "      <td>0.270284</td>\n",
       "    </tr>\n",
       "    <tr>\n",
       "      <th>...</th>\n",
       "      <td>...</td>\n",
       "      <td>...</td>\n",
       "      <td>...</td>\n",
       "      <td>...</td>\n",
       "      <td>...</td>\n",
       "      <td>...</td>\n",
       "      <td>...</td>\n",
       "      <td>...</td>\n",
       "      <td>...</td>\n",
       "      <td>...</td>\n",
       "    </tr>\n",
       "    <tr>\n",
       "      <th>16961</th>\n",
       "      <td>838.0</td>\n",
       "      <td>93.0</td>\n",
       "      <td>451.0</td>\n",
       "      <td>198.26</td>\n",
       "      <td>0.019087</td>\n",
       "      <td>745.0</td>\n",
       "      <td>0.000026</td>\n",
       "      <td>0.000105</td>\n",
       "      <td>0.244749</td>\n",
       "      <td>NaN</td>\n",
       "    </tr>\n",
       "    <tr>\n",
       "      <th>16962</th>\n",
       "      <td>2151.0</td>\n",
       "      <td>428.0</td>\n",
       "      <td>39.0</td>\n",
       "      <td>581.23</td>\n",
       "      <td>0.098307</td>\n",
       "      <td>1723.0</td>\n",
       "      <td>0.000057</td>\n",
       "      <td>0.000172</td>\n",
       "      <td>0.331242</td>\n",
       "      <td>NaN</td>\n",
       "    </tr>\n",
       "    <tr>\n",
       "      <th>16963</th>\n",
       "      <td>263.0</td>\n",
       "      <td>9.0</td>\n",
       "      <td>110.0</td>\n",
       "      <td>76.20</td>\n",
       "      <td>0.009405</td>\n",
       "      <td>254.0</td>\n",
       "      <td>0.000037</td>\n",
       "      <td>0.000143</td>\n",
       "      <td>0.258661</td>\n",
       "      <td>NaN</td>\n",
       "    </tr>\n",
       "    <tr>\n",
       "      <th>16964</th>\n",
       "      <td>858.0</td>\n",
       "      <td>115.0</td>\n",
       "      <td>317.0</td>\n",
       "      <td>133.31</td>\n",
       "      <td>0.026057</td>\n",
       "      <td>743.0</td>\n",
       "      <td>0.000035</td>\n",
       "      <td>0.000212</td>\n",
       "      <td>0.165289</td>\n",
       "      <td>NaN</td>\n",
       "    </tr>\n",
       "    <tr>\n",
       "      <th>16965</th>\n",
       "      <td>262.0</td>\n",
       "      <td>21.0</td>\n",
       "      <td>23.0</td>\n",
       "      <td>98.57</td>\n",
       "      <td>0.019155</td>\n",
       "      <td>241.0</td>\n",
       "      <td>0.000079</td>\n",
       "      <td>0.000221</td>\n",
       "      <td>0.360356</td>\n",
       "      <td>NaN</td>\n",
       "    </tr>\n",
       "  </tbody>\n",
       "</table>\n",
       "<p>16966 rows × 10 columns</p>\n",
       "</div>"
      ],
      "text/plain": [
       "       duration  meter_waiting  meter_waiting_till_pickup     fare  distance  \\\n",
       "0         834.0           56.0                       64.0   270.32  0.045869   \n",
       "1         791.0           47.0                      134.0   197.85  0.028500   \n",
       "2        1087.0           80.0                       61.0   301.64  0.057019   \n",
       "3         598.0          271.0                       68.0    82.30  0.007806   \n",
       "4        3407.0          182.0                      112.0  1065.02  0.217734   \n",
       "...         ...            ...                        ...      ...       ...   \n",
       "16961     838.0           93.0                      451.0   198.26  0.019087   \n",
       "16962    2151.0          428.0                       39.0   581.23  0.098307   \n",
       "16963     263.0            9.0                      110.0    76.20  0.009405   \n",
       "16964     858.0          115.0                      317.0   133.31  0.026057   \n",
       "16965     262.0           21.0                       23.0    98.57  0.019155   \n",
       "\n",
       "       running_duration  distance_running_duration  diatance_fare  \\\n",
       "0                 778.0                   0.000059       0.000177   \n",
       "1                 744.0                   0.000038       0.000152   \n",
       "2                1007.0                   0.000057       0.000196   \n",
       "3                 327.0                   0.000024       0.000139   \n",
       "4                3225.0                   0.000068       0.000206   \n",
       "...                 ...                        ...            ...   \n",
       "16961             745.0                   0.000026       0.000105   \n",
       "16962            1723.0                   0.000057       0.000172   \n",
       "16963             254.0                   0.000037       0.000143   \n",
       "16964             743.0                   0.000035       0.000212   \n",
       "16965             241.0                   0.000079       0.000221   \n",
       "\n",
       "       fare_running_duration  total_waiting_fare  \n",
       "0                   0.333959            1.454323  \n",
       "1                   0.251815           17.136937  \n",
       "2                   0.289116            1.369932  \n",
       "3                   0.171670            0.672056  \n",
       "4                   0.326983            0.270284  \n",
       "...                      ...                 ...  \n",
       "16961               0.244749                 NaN  \n",
       "16962               0.331242                 NaN  \n",
       "16963               0.258661                 NaN  \n",
       "16964               0.165289                 NaN  \n",
       "16965               0.360356                 NaN  \n",
       "\n",
       "[16966 rows x 10 columns]"
      ]
     },
     "execution_count": 220,
     "metadata": {},
     "output_type": "execute_result"
    }
   ],
   "source": [
    "data1"
   ]
  },
  {
   "cell_type": "code",
   "execution_count": 221,
   "metadata": {},
   "outputs": [],
   "source": [
    "from sklearn.model_selection import train_test_split"
   ]
  },
  {
   "cell_type": "code",
   "execution_count": 222,
   "metadata": {},
   "outputs": [],
   "source": [
    "X_train, X_test, y_train, y_test = train_test_split( data1, y, test_size=0.3, shuffle=True,stratify=y,random_state=0)"
   ]
  },
  {
   "cell_type": "code",
   "execution_count": 174,
   "metadata": {},
   "outputs": [],
   "source": [
    "import xgboost as xgb\n",
    "from xgboost import XGBClassifier\n",
    "from sklearn.ensemble import RandomForestClassifier\n",
    "from sklearn.linear_model import SGDClassifier\n",
    "\n"
   ]
  },
  {
   "cell_type": "code",
   "execution_count": 223,
   "metadata": {},
   "outputs": [],
   "source": [
    "classifier=xgb.XGBClassifier()"
   ]
  },
  {
   "cell_type": "code",
   "execution_count": 224,
   "metadata": {},
   "outputs": [],
   "source": [
    "classifier=classifier.fit(X_train,y_train)"
   ]
  },
  {
   "cell_type": "code",
   "execution_count": 40,
   "metadata": {},
   "outputs": [
    {
     "name": "stderr",
     "output_type": "stream",
     "text": [
      "/home/sri/Desktop/sem7/ML/my_project_env/lib/python3.6/site-packages/ipykernel_launcher.py:1: DeprecationWarning: The default dtype for empty Series will be 'object' instead of 'float64' in a future version. Specify a dtype explicitly to silence this warning.\n",
      "  \"\"\"Entry point for launching an IPython kernel.\n"
     ]
    }
   ],
   "source": [
    "y_new = pd.Series([])\n",
    "for i in range(len(y)):\n",
    "    if(y[i]==\"correct\"):\n",
    "        y_new[i]=1\n",
    "    else:\n",
    "        y_new[i]=0"
   ]
  },
  {
   "cell_type": "code",
   "execution_count": 225,
   "metadata": {},
   "outputs": [],
   "source": [
    "data_dmatrix = xgb.DMatrix(data=data1,label=y_new)"
   ]
  },
  {
   "cell_type": "code",
   "execution_count": 226,
   "metadata": {},
   "outputs": [],
   "source": [
    "xg_reg = xgb.train(params={}, dtrain=data_dmatrix, num_boost_round=10)"
   ]
  },
  {
   "cell_type": "code",
   "execution_count": 227,
   "metadata": {},
   "outputs": [
    {
     "data": {
      "image/png": "[encoded data removed]",
      "text/plain": [
       "<Figure size 360x360 with 1 Axes>"
      ]
     },
     "metadata": {
      "needs_background": "light"
     },
     "output_type": "display_data"
    }
   ],
   "source": [
    "import matplotlib.pyplot as plt\n",
    "\n",
    "xgb.plot_importance(xg_reg)\n",
    "plt.rcParams['figure.figsize'] = [5, 5]\n",
    "plt.show()"
   ]
  },
  {
   "cell_type": "code",
   "execution_count": 228,
   "metadata": {},
   "outputs": [],
   "source": [
    "y_train_pred=classifier.predict(X_train)"
   ]
  },
  {
   "cell_type": "code",
   "execution_count": 229,
   "metadata": {},
   "outputs": [],
   "source": [
    "from sklearn.model_selection import cross_val_score"
   ]
  },
  {
   "cell_type": "code",
   "execution_count": 230,
   "metadata": {},
   "outputs": [
    {
     "data": {
      "text/plain": [
       "array([0.95251326, 0.95276585, 0.95477514])"
      ]
     },
     "execution_count": 230,
     "metadata": {},
     "output_type": "execute_result"
    }
   ],
   "source": [
    "cross_val_score(classifier, X_train, y_train, cv=3,scoring=\"accuracy\")"
   ]
  },
  {
   "cell_type": "code",
   "execution_count": 231,
   "metadata": {},
   "outputs": [],
   "source": [
    "from sklearn.model_selection import cross_val_predict"
   ]
  },
  {
   "cell_type": "code",
   "execution_count": 232,
   "metadata": {},
   "outputs": [],
   "source": [
    "\n",
    "\n",
    "from sklearn.metrics import confusion_matrix"
   ]
  },
  {
   "cell_type": "code",
   "execution_count": 233,
   "metadata": {},
   "outputs": [
    {
     "data": {
      "text/plain": [
       "array([[10804,     4],\n",
       "       [  101,   967]])"
      ]
     },
     "execution_count": 233,
     "metadata": {},
     "output_type": "execute_result"
    }
   ],
   "source": [
    "confusion_matrix(y_train, y_train_pred)"
   ]
  },
  {
   "cell_type": "code",
   "execution_count": 234,
   "metadata": {},
   "outputs": [],
   "source": [
    "from sklearn.metrics import precision_score, recall_score"
   ]
  },
  {
   "cell_type": "code",
   "execution_count": 235,
   "metadata": {},
   "outputs": [
    {
     "data": {
      "text/plain": [
       "0.9907381934892251"
      ]
     },
     "execution_count": 235,
     "metadata": {},
     "output_type": "execute_result"
    }
   ],
   "source": [
    "precision_score(y_train, y_train_pred,average=\"binary\", pos_label=\"correct\")"
   ]
  },
  {
   "cell_type": "code",
   "execution_count": 236,
   "metadata": {},
   "outputs": [
    {
     "data": {
      "text/plain": [
       "0.9996299037749815"
      ]
     },
     "execution_count": 236,
     "metadata": {},
     "output_type": "execute_result"
    }
   ],
   "source": [
    "recall_score(y_train, y_train_pred,average=\"binary\", pos_label=\"correct\")"
   ]
  },
  {
   "cell_type": "code",
   "execution_count": 237,
   "metadata": {},
   "outputs": [],
   "source": [
    "y_test_pred = classifier.predict(X_test)"
   ]
  },
  {
   "cell_type": "code",
   "execution_count": 238,
   "metadata": {},
   "outputs": [
    {
     "data": {
      "text/plain": [
       "array([[4589,   43],\n",
       "       [ 167,  291]])"
      ]
     },
     "execution_count": 238,
     "metadata": {},
     "output_type": "execute_result"
    }
   ],
   "source": [
    "confusion_matrix(y_test, y_test_pred)"
   ]
  },
  {
   "cell_type": "code",
   "execution_count": 239,
   "metadata": {},
   "outputs": [
    {
     "data": {
      "text/plain": [
       "0.9648864592094197"
      ]
     },
     "execution_count": 239,
     "metadata": {},
     "output_type": "execute_result"
    }
   ],
   "source": [
    "precision_score(y_test, y_test_pred,average=\"binary\", pos_label=\"correct\")"
   ]
  },
  {
   "cell_type": "code",
   "execution_count": 240,
   "metadata": {},
   "outputs": [
    {
     "data": {
      "text/plain": [
       "0.9907167530224525"
      ]
     },
     "execution_count": 240,
     "metadata": {},
     "output_type": "execute_result"
    }
   ],
   "source": [
    "recall_score(y_test, y_test_pred,average=\"binary\", pos_label=\"correct\")"
   ]
  },
  {
   "cell_type": "code",
   "execution_count": 241,
   "metadata": {},
   "outputs": [],
   "source": [
    "from sklearn.metrics import f1_score"
   ]
  },
  {
   "cell_type": "code",
   "execution_count": 242,
   "metadata": {},
   "outputs": [
    {
     "data": {
      "text/plain": [
       "0.9776310183212612"
      ]
     },
     "execution_count": 242,
     "metadata": {},
     "output_type": "execute_result"
    }
   ],
   "source": [
    "f1_score(y_test, y_test_pred,average=\"binary\", pos_label=\"correct\")"
   ]
  },
  {
   "cell_type": "raw",
   "metadata": {},
   "source": [
    "test = pd.DataFrame(pd.read_csv(\"test.csv\"))"
   ]
  },
  {
   "cell_type": "code",
   "execution_count": 267,
   "metadata": {},
   "outputs": [],
   "source": [
    "test = pd.DataFrame(pd.read_csv(\"test.csv\"))"
   ]
  },
  {
   "cell_type": "code",
   "execution_count": 268,
   "metadata": {},
   "outputs": [],
   "source": [
    "test = test.dropna()"
   ]
  },
  {
   "cell_type": "code",
   "execution_count": 269,
   "metadata": {},
   "outputs": [
    {
     "data": {
      "text/plain": [
       "(8576, 13)"
      ]
     },
     "execution_count": 269,
     "metadata": {},
     "output_type": "execute_result"
    }
   ],
   "source": [
    "test.shape"
   ]
  },
  {
   "cell_type": "code",
   "execution_count": 270,
   "metadata": {},
   "outputs": [],
   "source": [
    "test1=test.drop(columns=[\"tripid\"])"
   ]
  },
  {
   "cell_type": "code",
   "execution_count": 271,
   "metadata": {},
   "outputs": [
    {
     "name": "stderr",
     "output_type": "stream",
     "text": [
      "/home/sri/Desktop/sem7/ML/my_project_env/lib/python3.6/site-packages/ipykernel_launcher.py:5: DeprecationWarning: The default dtype for empty Series will be 'object' instead of 'float64' in a future version. Specify a dtype explicitly to silence this warning.\n",
      "  \"\"\"\n"
     ]
    }
   ],
   "source": [
    "#week_day_array=pd.Series([])\n",
    "#holy_day_array=pd.Series([])\n",
    "#day_time_array=pd.Series([])\n",
    "#night_time_array=pd.Series([])\n",
    "time_array=pd.Series([])"
   ]
  },
  {
   "cell_type": "code",
   "execution_count": 272,
   "metadata": {},
   "outputs": [],
   "source": [
    "from datetime import datetime\n",
    "import calendar\n",
    "for i in range(len(test1)):\n",
    "    date_pick = test1[\"pickup_time\"][i]\n",
    "    date_pick = datetime.strptime(date_pick,'%m/%d/%Y %H:%M')\n",
    "    day = calendar.day_name[date_pick.weekday()]\n",
    "    #if(day=='Saturday' or day =='Sunday'):\n",
    "        #meter_waiting_day_array[i]=0.8\n",
    "        #meter_waiting_till_pickup_day_array[i]=1\n",
    "        #duration_day_array[i]=0.8\n",
    "        #week_day_array[i]=0\n",
    "        #holy_day_array[i]=1\n",
    "\n",
    "    \n",
    "    #else:\n",
    "        #meter_waiting_day_array[i]=1\n",
    "        #meter_waiting_till_pickup_day_array[i]=0.8\n",
    "        #duration_day_array[i]=1\n",
    "        #week_day_array[i]=1\n",
    "        #holy_day_array[i]=0\n",
    "    pick_time = date_pick.hour\n",
    "    if(pick_time>=9 and pick_time<= 21):\n",
    "        #meter_waiting_time_array[i]=1\n",
    "        #meter_waiting_till_pickup_time_array[i]=0.8\n",
    "        #duration_time_array[i]=0.8\n",
    "        #day_time_array[i]=1\n",
    "        #night_time_array[i]=0\n",
    "        time_array[i]=1\n",
    "    else:\n",
    "        #meter_waiting_time_array[i]=0.8\n",
    "        #meter_waiting_till_pickup_time_array[i]=1\n",
    "        #duration_time_array[i]=1\n",
    "        #day_time_array[i]=0\n",
    "        #night_time_array[i]=1\n",
    "        time_array[i]=2\n",
    "        \n",
    "    "
   ]
  },
  {
   "cell_type": "code",
   "execution_count": 273,
   "metadata": {},
   "outputs": [],
   "source": [
    "#test1[\"week_day_array\"]=week_day_array\n",
    "#test1[\"holy_day_array\"]=holy_day_array\n",
    "#test1[\"day_time_array\"]=day_time_array\n",
    "#test1[\"night_time_array\"]=night_time_array\n",
    "test1[\"time_array\"]=time_array\n"
   ]
  },
  {
   "cell_type": "code",
   "execution_count": 274,
   "metadata": {},
   "outputs": [
    {
     "name": "stderr",
     "output_type": "stream",
     "text": [
      "/home/sri/Desktop/sem7/ML/my_project_env/lib/python3.6/site-packages/ipykernel_launcher.py:1: DeprecationWarning: The default dtype for empty Series will be 'object' instead of 'float64' in a future version. Specify a dtype explicitly to silence this warning.\n",
      "  \"\"\"Entry point for launching an IPython kernel.\n",
      "/home/sri/Desktop/sem7/ML/my_project_env/lib/python3.6/site-packages/ipykernel_launcher.py:2: DeprecationWarning: The default dtype for empty Series will be 'object' instead of 'float64' in a future version. Specify a dtype explicitly to silence this warning.\n",
      "  \n"
     ]
    }
   ],
   "source": [
    "running_duration=pd.Series([])\n",
    "actual_fare = pd.Series([])"
   ]
  },
  {
   "cell_type": "code",
   "execution_count": 275,
   "metadata": {},
   "outputs": [],
   "source": [
    "for i in range(len(test1)):\n",
    "    runningDuration = test1[\"duration\"][i]-test1[\"meter_waiting\"][i]\n",
    "    actualFare = test1[\"fare\"][i]-test1[\"meter_waiting_fare\"][i]-test1[\"additional_fare\"][i]\n",
    "    if(runningDuration>=0):\n",
    "        running_duration[i]=runningDuration\n",
    "    else:\n",
    "        running_duration[i]=0\n",
    "    actual_fare[i]=actualFare"
   ]
  },
  {
   "cell_type": "code",
   "execution_count": 276,
   "metadata": {},
   "outputs": [],
   "source": [
    "test1[\"running_duration\"]=running_duration\n",
    "test1[\"actual_fare\"]=actual_fare"
   ]
  },
  {
   "cell_type": "code",
   "execution_count": 277,
   "metadata": {},
   "outputs": [],
   "source": [
    "test1=test1.drop(columns=[\"pickup_time\",\"drop_time\"])"
   ]
  },
  {
   "cell_type": "code",
   "execution_count": 278,
   "metadata": {},
   "outputs": [
    {
     "name": "stderr",
     "output_type": "stream",
     "text": [
      "/home/sri/Desktop/sem7/ML/my_project_env/lib/python3.6/site-packages/ipykernel_launcher.py:1: DeprecationWarning: The default dtype for empty Series will be 'object' instead of 'float64' in a future version. Specify a dtype explicitly to silence this warning.\n",
      "  \"\"\"Entry point for launching an IPython kernel.\n"
     ]
    }
   ],
   "source": [
    "distance=pd.Series([])"
   ]
  },
  {
   "cell_type": "code",
   "execution_count": 279,
   "metadata": {},
   "outputs": [],
   "source": [
    "for i in range(len(test1)):\n",
    "    lat=(float(test1[\"drop_lat\"][i])-float(test1[\"pick_lat\"][i]))\n",
    "    lon=(float(test1[\"drop_lon\"][i])-float(test1[\"pick_lon\"][i]))\n",
    "    distance[i]=math.sqrt(lat**2+lon**2)"
   ]
  },
  {
   "cell_type": "code",
   "execution_count": 280,
   "metadata": {},
   "outputs": [],
   "source": [
    "test1[\"distance\"]=distance\n"
   ]
  },
  {
   "cell_type": "code",
   "execution_count": 281,
   "metadata": {},
   "outputs": [
    {
     "name": "stderr",
     "output_type": "stream",
     "text": [
      "/home/sri/Desktop/sem7/ML/my_project_env/lib/python3.6/site-packages/ipykernel_launcher.py:1: DeprecationWarning: The default dtype for empty Series will be 'object' instead of 'float64' in a future version. Specify a dtype explicitly to silence this warning.\n",
      "  \"\"\"Entry point for launching an IPython kernel.\n",
      "/home/sri/Desktop/sem7/ML/my_project_env/lib/python3.6/site-packages/ipykernel_launcher.py:2: DeprecationWarning: The default dtype for empty Series will be 'object' instead of 'float64' in a future version. Specify a dtype explicitly to silence this warning.\n",
      "  \n",
      "/home/sri/Desktop/sem7/ML/my_project_env/lib/python3.6/site-packages/ipykernel_launcher.py:3: DeprecationWarning: The default dtype for empty Series will be 'object' instead of 'float64' in a future version. Specify a dtype explicitly to silence this warning.\n",
      "  This is separate from the ipykernel package so we can avoid doing imports until\n",
      "/home/sri/Desktop/sem7/ML/my_project_env/lib/python3.6/site-packages/ipykernel_launcher.py:4: DeprecationWarning: The default dtype for empty Series will be 'object' instead of 'float64' in a future version. Specify a dtype explicitly to silence this warning.\n",
      "  after removing the cwd from sys.path.\n",
      "/home/sri/Desktop/sem7/ML/my_project_env/lib/python3.6/site-packages/ipykernel_launcher.py:5: DeprecationWarning: The default dtype for empty Series will be 'object' instead of 'float64' in a future version. Specify a dtype explicitly to silence this warning.\n",
      "  \"\"\"\n"
     ]
    }
   ],
   "source": [
    "distance_running_duration=pd.Series([])\n",
    "diatance_fare=pd.Series([])\n",
    "fare_running_duration=pd.Series([])\n",
    "total_waiting_fare=pd.Series([])\n",
    "time_fare=pd.Series([])"
   ]
  },
  {
   "cell_type": "code",
   "execution_count": 283,
   "metadata": {},
   "outputs": [],
   "source": [
    "for i in range(len(test1)):\n",
    "    if(test1[\"running_duration\"][i]!=0):\n",
    "        distanceOverDuration=test1[\"distance\"][i]/test1[\"running_duration\"][i]\n",
    "        distance_running_duration[i]=distanceOverDuration\n",
    "    else:\n",
    "        distance_running_duration[i]=test1[\"distance\"][i]\n",
    "    if(test1[\"actual_fare\"][i]!=0):\n",
    "        diatance_fare[i]=test1[\"distance\"][i]/test1[\"actual_fare\"][i]\n",
    "    else:\n",
    "        diatance_fare[i]=test1[\"distance\"][i]\n",
    "    if(test1[\"running_duration\"][i]!=0):\n",
    "        fare_running_duration[i]=test1[\"actual_fare\"][i]/test1[\"running_duration\"][i]\n",
    "    else:\n",
    "        fare_running_duration[i]=test1[\"actual_fare\"][i]\n",
    "        \n",
    "    if(test1[\"meter_waiting\"][i]+test1[\"meter_waiting_till_pickup\"][i]!=0):\n",
    "        total_waiting_fare[i]=test1[\"actual_fare\"][i]/(test1[\"meter_waiting\"][i]+test1[\"meter_waiting_till_pickup\"][i])\n",
    "    else:\n",
    "        total_waiting_fare[i]=test1[\"actual_fare\"][i]\n",
    "    time_fare[i]=test1[\"actual_fare\"][i]*data[\"time_array\"][i]\n",
    "#        \n",
    "test1[\"distance_running_duration\"]=distance_running_duration\n",
    "test1[\"diatance_fare\"]=diatance_fare\n",
    "test1[\"fare_running_duration\"]=fare_running_duration\n",
    "test1[\"total_waiting_fare\"]=total_waiting_fare\n",
    "test1[\"time_fare\"]=time_fare"
   ]
  },
  {
   "cell_type": "code",
   "execution_count": 265,
   "metadata": {},
   "outputs": [
    {
     "data": {
      "text/html": [
       "<div>\n",
       "<style scoped>\n",
       "    .dataframe tbody tr th:only-of-type {\n",
       "        vertical-align: middle;\n",
       "    }\n",
       "\n",
       "    .dataframe tbody tr th {\n",
       "        vertical-align: top;\n",
       "    }\n",
       "\n",
       "    .dataframe thead th {\n",
       "        text-align: right;\n",
       "    }\n",
       "</style>\n",
       "<table border=\"1\" class=\"dataframe\">\n",
       "  <thead>\n",
       "    <tr style=\"text-align: right;\">\n",
       "      <th></th>\n",
       "      <th>duration</th>\n",
       "      <th>meter_waiting</th>\n",
       "      <th>meter_waiting_till_pickup</th>\n",
       "      <th>fare</th>\n",
       "      <th>distance</th>\n",
       "      <th>running_duration</th>\n",
       "      <th>distance_running_duration</th>\n",
       "      <th>diatance_fare</th>\n",
       "      <th>fare_running_duration</th>\n",
       "      <th>total_waiting_fare</th>\n",
       "    </tr>\n",
       "  </thead>\n",
       "  <tbody>\n",
       "    <tr>\n",
       "      <th>0</th>\n",
       "      <td>834.0</td>\n",
       "      <td>56.0</td>\n",
       "      <td>64.0</td>\n",
       "      <td>270.32</td>\n",
       "      <td>0.045869</td>\n",
       "      <td>778.0</td>\n",
       "      <td>0.000059</td>\n",
       "      <td>0.000177</td>\n",
       "      <td>0.333959</td>\n",
       "      <td>1.454323</td>\n",
       "    </tr>\n",
       "    <tr>\n",
       "      <th>1</th>\n",
       "      <td>791.0</td>\n",
       "      <td>47.0</td>\n",
       "      <td>134.0</td>\n",
       "      <td>197.85</td>\n",
       "      <td>0.028500</td>\n",
       "      <td>744.0</td>\n",
       "      <td>0.000038</td>\n",
       "      <td>0.000152</td>\n",
       "      <td>0.251815</td>\n",
       "      <td>17.136937</td>\n",
       "    </tr>\n",
       "    <tr>\n",
       "      <th>2</th>\n",
       "      <td>1087.0</td>\n",
       "      <td>80.0</td>\n",
       "      <td>61.0</td>\n",
       "      <td>301.64</td>\n",
       "      <td>0.057019</td>\n",
       "      <td>1007.0</td>\n",
       "      <td>0.000057</td>\n",
       "      <td>0.000196</td>\n",
       "      <td>0.289116</td>\n",
       "      <td>1.369932</td>\n",
       "    </tr>\n",
       "    <tr>\n",
       "      <th>3</th>\n",
       "      <td>598.0</td>\n",
       "      <td>271.0</td>\n",
       "      <td>68.0</td>\n",
       "      <td>82.30</td>\n",
       "      <td>0.007806</td>\n",
       "      <td>327.0</td>\n",
       "      <td>0.000024</td>\n",
       "      <td>0.000139</td>\n",
       "      <td>0.171670</td>\n",
       "      <td>0.672056</td>\n",
       "    </tr>\n",
       "    <tr>\n",
       "      <th>4</th>\n",
       "      <td>3407.0</td>\n",
       "      <td>182.0</td>\n",
       "      <td>112.0</td>\n",
       "      <td>1065.02</td>\n",
       "      <td>0.217734</td>\n",
       "      <td>3225.0</td>\n",
       "      <td>0.000068</td>\n",
       "      <td>0.000206</td>\n",
       "      <td>0.326983</td>\n",
       "      <td>0.270284</td>\n",
       "    </tr>\n",
       "    <tr>\n",
       "      <th>...</th>\n",
       "      <td>...</td>\n",
       "      <td>...</td>\n",
       "      <td>...</td>\n",
       "      <td>...</td>\n",
       "      <td>...</td>\n",
       "      <td>...</td>\n",
       "      <td>...</td>\n",
       "      <td>...</td>\n",
       "      <td>...</td>\n",
       "      <td>...</td>\n",
       "    </tr>\n",
       "    <tr>\n",
       "      <th>16961</th>\n",
       "      <td>838.0</td>\n",
       "      <td>93.0</td>\n",
       "      <td>451.0</td>\n",
       "      <td>198.26</td>\n",
       "      <td>0.019087</td>\n",
       "      <td>745.0</td>\n",
       "      <td>0.000026</td>\n",
       "      <td>0.000105</td>\n",
       "      <td>0.244749</td>\n",
       "      <td>NaN</td>\n",
       "    </tr>\n",
       "    <tr>\n",
       "      <th>16962</th>\n",
       "      <td>2151.0</td>\n",
       "      <td>428.0</td>\n",
       "      <td>39.0</td>\n",
       "      <td>581.23</td>\n",
       "      <td>0.098307</td>\n",
       "      <td>1723.0</td>\n",
       "      <td>0.000057</td>\n",
       "      <td>0.000172</td>\n",
       "      <td>0.331242</td>\n",
       "      <td>NaN</td>\n",
       "    </tr>\n",
       "    <tr>\n",
       "      <th>16963</th>\n",
       "      <td>263.0</td>\n",
       "      <td>9.0</td>\n",
       "      <td>110.0</td>\n",
       "      <td>76.20</td>\n",
       "      <td>0.009405</td>\n",
       "      <td>254.0</td>\n",
       "      <td>0.000037</td>\n",
       "      <td>0.000143</td>\n",
       "      <td>0.258661</td>\n",
       "      <td>NaN</td>\n",
       "    </tr>\n",
       "    <tr>\n",
       "      <th>16964</th>\n",
       "      <td>858.0</td>\n",
       "      <td>115.0</td>\n",
       "      <td>317.0</td>\n",
       "      <td>133.31</td>\n",
       "      <td>0.026057</td>\n",
       "      <td>743.0</td>\n",
       "      <td>0.000035</td>\n",
       "      <td>0.000212</td>\n",
       "      <td>0.165289</td>\n",
       "      <td>NaN</td>\n",
       "    </tr>\n",
       "    <tr>\n",
       "      <th>16965</th>\n",
       "      <td>262.0</td>\n",
       "      <td>21.0</td>\n",
       "      <td>23.0</td>\n",
       "      <td>98.57</td>\n",
       "      <td>0.019155</td>\n",
       "      <td>241.0</td>\n",
       "      <td>0.000079</td>\n",
       "      <td>0.000221</td>\n",
       "      <td>0.360356</td>\n",
       "      <td>NaN</td>\n",
       "    </tr>\n",
       "  </tbody>\n",
       "</table>\n",
       "<p>16966 rows × 10 columns</p>\n",
       "</div>"
      ],
      "text/plain": [
       "       duration  meter_waiting  meter_waiting_till_pickup     fare  distance  \\\n",
       "0         834.0           56.0                       64.0   270.32  0.045869   \n",
       "1         791.0           47.0                      134.0   197.85  0.028500   \n",
       "2        1087.0           80.0                       61.0   301.64  0.057019   \n",
       "3         598.0          271.0                       68.0    82.30  0.007806   \n",
       "4        3407.0          182.0                      112.0  1065.02  0.217734   \n",
       "...         ...            ...                        ...      ...       ...   \n",
       "16961     838.0           93.0                      451.0   198.26  0.019087   \n",
       "16962    2151.0          428.0                       39.0   581.23  0.098307   \n",
       "16963     263.0            9.0                      110.0    76.20  0.009405   \n",
       "16964     858.0          115.0                      317.0   133.31  0.026057   \n",
       "16965     262.0           21.0                       23.0    98.57  0.019155   \n",
       "\n",
       "       running_duration  distance_running_duration  diatance_fare  \\\n",
       "0                 778.0                   0.000059       0.000177   \n",
       "1                 744.0                   0.000038       0.000152   \n",
       "2                1007.0                   0.000057       0.000196   \n",
       "3                 327.0                   0.000024       0.000139   \n",
       "4                3225.0                   0.000068       0.000206   \n",
       "...                 ...                        ...            ...   \n",
       "16961             745.0                   0.000026       0.000105   \n",
       "16962            1723.0                   0.000057       0.000172   \n",
       "16963             254.0                   0.000037       0.000143   \n",
       "16964             743.0                   0.000035       0.000212   \n",
       "16965             241.0                   0.000079       0.000221   \n",
       "\n",
       "       fare_running_duration  total_waiting_fare  \n",
       "0                   0.333959            1.454323  \n",
       "1                   0.251815           17.136937  \n",
       "2                   0.289116            1.369932  \n",
       "3                   0.171670            0.672056  \n",
       "4                   0.326983            0.270284  \n",
       "...                      ...                 ...  \n",
       "16961               0.244749                 NaN  \n",
       "16962               0.331242                 NaN  \n",
       "16963               0.258661                 NaN  \n",
       "16964               0.165289                 NaN  \n",
       "16965               0.360356                 NaN  \n",
       "\n",
       "[16966 rows x 10 columns]"
      ]
     },
     "execution_count": 265,
     "metadata": {},
     "output_type": "execute_result"
    }
   ],
   "source": [
    "data1"
   ]
  },
  {
   "cell_type": "code",
   "execution_count": 284,
   "metadata": {},
   "outputs": [],
   "source": [
    "test1=test1.drop(columns=[\"pick_lat\",\"pick_lon\",\"drop_lat\",\"drop_lon\"])"
   ]
  },
  {
   "cell_type": "code",
   "execution_count": 290,
   "metadata": {},
   "outputs": [
    {
     "data": {
      "text/html": [
       "<div>\n",
       "<style scoped>\n",
       "    .dataframe tbody tr th:only-of-type {\n",
       "        vertical-align: middle;\n",
       "    }\n",
       "\n",
       "    .dataframe tbody tr th {\n",
       "        vertical-align: top;\n",
       "    }\n",
       "\n",
       "    .dataframe thead th {\n",
       "        text-align: right;\n",
       "    }\n",
       "</style>\n",
       "<table border=\"1\" class=\"dataframe\">\n",
       "  <thead>\n",
       "    <tr style=\"text-align: right;\">\n",
       "      <th></th>\n",
       "      <th>duration</th>\n",
       "      <th>meter_waiting</th>\n",
       "      <th>meter_waiting_till_pickup</th>\n",
       "      <th>fare</th>\n",
       "      <th>distance</th>\n",
       "      <th>running_duration</th>\n",
       "      <th>distance_running_duration</th>\n",
       "      <th>diatance_fare</th>\n",
       "      <th>fare_running_duration</th>\n",
       "      <th>total_waiting_fare</th>\n",
       "    </tr>\n",
       "  </thead>\n",
       "  <tbody>\n",
       "    <tr>\n",
       "      <th>0</th>\n",
       "      <td>924</td>\n",
       "      <td>42</td>\n",
       "      <td>148</td>\n",
       "      <td>289.27</td>\n",
       "      <td>0.060315</td>\n",
       "      <td>882</td>\n",
       "      <td>0.000068</td>\n",
       "      <td>0.000218</td>\n",
       "      <td>0.313290</td>\n",
       "      <td>1.454323</td>\n",
       "    </tr>\n",
       "    <tr>\n",
       "      <th>1</th>\n",
       "      <td>4249</td>\n",
       "      <td>20</td>\n",
       "      <td>91</td>\n",
       "      <td>1912.70</td>\n",
       "      <td>0.373922</td>\n",
       "      <td>4229</td>\n",
       "      <td>0.000088</td>\n",
       "      <td>0.000197</td>\n",
       "      <td>0.449799</td>\n",
       "      <td>17.136937</td>\n",
       "    </tr>\n",
       "    <tr>\n",
       "      <th>2</th>\n",
       "      <td>1552</td>\n",
       "      <td>255</td>\n",
       "      <td>23</td>\n",
       "      <td>394.00</td>\n",
       "      <td>0.053564</td>\n",
       "      <td>1297</td>\n",
       "      <td>0.000041</td>\n",
       "      <td>0.000141</td>\n",
       "      <td>0.293632</td>\n",
       "      <td>1.369932</td>\n",
       "    </tr>\n",
       "    <tr>\n",
       "      <th>3</th>\n",
       "      <td>462</td>\n",
       "      <td>16</td>\n",
       "      <td>198</td>\n",
       "      <td>154.32</td>\n",
       "      <td>0.029694</td>\n",
       "      <td>446</td>\n",
       "      <td>0.000067</td>\n",
       "      <td>0.000206</td>\n",
       "      <td>0.322466</td>\n",
       "      <td>0.672056</td>\n",
       "    </tr>\n",
       "    <tr>\n",
       "      <th>4</th>\n",
       "      <td>814</td>\n",
       "      <td>392</td>\n",
       "      <td>69</td>\n",
       "      <td>147.47</td>\n",
       "      <td>0.023427</td>\n",
       "      <td>422</td>\n",
       "      <td>0.000056</td>\n",
       "      <td>0.000188</td>\n",
       "      <td>0.295263</td>\n",
       "      <td>0.270284</td>\n",
       "    </tr>\n",
       "    <tr>\n",
       "      <th>...</th>\n",
       "      <td>...</td>\n",
       "      <td>...</td>\n",
       "      <td>...</td>\n",
       "      <td>...</td>\n",
       "      <td>...</td>\n",
       "      <td>...</td>\n",
       "      <td>...</td>\n",
       "      <td>...</td>\n",
       "      <td>...</td>\n",
       "      <td>...</td>\n",
       "    </tr>\n",
       "    <tr>\n",
       "      <th>8571</th>\n",
       "      <td>1723</td>\n",
       "      <td>429</td>\n",
       "      <td>3</td>\n",
       "      <td>388.48</td>\n",
       "      <td>0.035632</td>\n",
       "      <td>1294</td>\n",
       "      <td>0.000028</td>\n",
       "      <td>0.000101</td>\n",
       "      <td>0.272911</td>\n",
       "      <td>0.817469</td>\n",
       "    </tr>\n",
       "    <tr>\n",
       "      <th>8572</th>\n",
       "      <td>1378</td>\n",
       "      <td>80</td>\n",
       "      <td>125</td>\n",
       "      <td>379.85</td>\n",
       "      <td>0.068094</td>\n",
       "      <td>1298</td>\n",
       "      <td>0.000052</td>\n",
       "      <td>0.000184</td>\n",
       "      <td>0.284553</td>\n",
       "      <td>1.801707</td>\n",
       "    </tr>\n",
       "    <tr>\n",
       "      <th>8573</th>\n",
       "      <td>418</td>\n",
       "      <td>56</td>\n",
       "      <td>93</td>\n",
       "      <td>112.79</td>\n",
       "      <td>0.018501</td>\n",
       "      <td>362</td>\n",
       "      <td>0.000051</td>\n",
       "      <td>0.000187</td>\n",
       "      <td>0.273496</td>\n",
       "      <td>0.664467</td>\n",
       "    </tr>\n",
       "    <tr>\n",
       "      <th>8574</th>\n",
       "      <td>1604</td>\n",
       "      <td>548</td>\n",
       "      <td>17</td>\n",
       "      <td>248.46</td>\n",
       "      <td>0.035266</td>\n",
       "      <td>1056</td>\n",
       "      <td>0.000033</td>\n",
       "      <td>0.000171</td>\n",
       "      <td>0.195346</td>\n",
       "      <td>0.365107</td>\n",
       "    </tr>\n",
       "    <tr>\n",
       "      <th>8575</th>\n",
       "      <td>1698</td>\n",
       "      <td>691</td>\n",
       "      <td>42</td>\n",
       "      <td>339.63</td>\n",
       "      <td>0.048913</td>\n",
       "      <td>1007</td>\n",
       "      <td>0.000049</td>\n",
       "      <td>0.000165</td>\n",
       "      <td>0.294183</td>\n",
       "      <td>0.404150</td>\n",
       "    </tr>\n",
       "  </tbody>\n",
       "</table>\n",
       "<p>8576 rows × 10 columns</p>\n",
       "</div>"
      ],
      "text/plain": [
       "      duration  meter_waiting  meter_waiting_till_pickup     fare  distance  \\\n",
       "0          924             42                        148   289.27  0.060315   \n",
       "1         4249             20                         91  1912.70  0.373922   \n",
       "2         1552            255                         23   394.00  0.053564   \n",
       "3          462             16                        198   154.32  0.029694   \n",
       "4          814            392                         69   147.47  0.023427   \n",
       "...        ...            ...                        ...      ...       ...   \n",
       "8571      1723            429                          3   388.48  0.035632   \n",
       "8572      1378             80                        125   379.85  0.068094   \n",
       "8573       418             56                         93   112.79  0.018501   \n",
       "8574      1604            548                         17   248.46  0.035266   \n",
       "8575      1698            691                         42   339.63  0.048913   \n",
       "\n",
       "      running_duration  distance_running_duration  diatance_fare  \\\n",
       "0                  882                   0.000068       0.000218   \n",
       "1                 4229                   0.000088       0.000197   \n",
       "2                 1297                   0.000041       0.000141   \n",
       "3                  446                   0.000067       0.000206   \n",
       "4                  422                   0.000056       0.000188   \n",
       "...                ...                        ...            ...   \n",
       "8571              1294                   0.000028       0.000101   \n",
       "8572              1298                   0.000052       0.000184   \n",
       "8573               362                   0.000051       0.000187   \n",
       "8574              1056                   0.000033       0.000171   \n",
       "8575              1007                   0.000049       0.000165   \n",
       "\n",
       "      fare_running_duration  total_waiting_fare  \n",
       "0                  0.313290            1.454323  \n",
       "1                  0.449799           17.136937  \n",
       "2                  0.293632            1.369932  \n",
       "3                  0.322466            0.672056  \n",
       "4                  0.295263            0.270284  \n",
       "...                     ...                 ...  \n",
       "8571               0.272911            0.817469  \n",
       "8572               0.284553            1.801707  \n",
       "8573               0.273496            0.664467  \n",
       "8574               0.195346            0.365107  \n",
       "8575               0.294183            0.404150  \n",
       "\n",
       "[8576 rows x 10 columns]"
      ]
     },
     "execution_count": 290,
     "metadata": {},
     "output_type": "execute_result"
    }
   ],
   "source": [
    "test1"
   ]
  },
  {
   "cell_type": "code",
   "execution_count": 287,
   "metadata": {},
   "outputs": [],
   "source": [
    "test1=test1.drop(columns=[\"time_array\",\"time_fare\",\"additional_fare\",\"actual_fare\",\"meter_waiting_fare\"])"
   ]
  },
  {
   "cell_type": "code",
   "execution_count": 289,
   "metadata": {},
   "outputs": [],
   "source": [
    "test1=test1[[\"duration\",\"meter_waiting\",\"meter_waiting_till_pickup\",\"fare\",\"distance\",\"running_duration\",\"distance_running_duration\",\"diatance_fare\",\"fare_running_duration\",\"total_waiting_fare\"]]"
   ]
  },
  {
   "cell_type": "code",
   "execution_count": 291,
   "metadata": {},
   "outputs": [],
   "source": [
    "pred_array=classifier.predict(test1)"
   ]
  },
  {
   "cell_type": "code",
   "execution_count": 292,
   "metadata": {},
   "outputs": [
    {
     "data": {
      "text/plain": [
       "array(['correct', 'correct', 'correct', ..., 'correct', 'correct',\n",
       "       'correct'], dtype=object)"
      ]
     },
     "execution_count": 292,
     "metadata": {},
     "output_type": "execute_result"
    }
   ],
   "source": [
    "pred_array"
   ]
  },
  {
   "cell_type": "code",
   "execution_count": 293,
   "metadata": {},
   "outputs": [
    {
     "data": {
      "text/plain": [
       "numpy.ndarray"
      ]
     },
     "execution_count": 293,
     "metadata": {},
     "output_type": "execute_result"
    }
   ],
   "source": [
    "type(pred_array)"
   ]
  },
  {
   "cell_type": "code",
   "execution_count": 294,
   "metadata": {},
   "outputs": [
    {
     "name": "stderr",
     "output_type": "stream",
     "text": [
      "/home/sri/Desktop/sem7/ML/my_project_env/lib/python3.6/site-packages/ipykernel_launcher.py:1: DeprecationWarning: The default dtype for empty Series will be 'object' instead of 'float64' in a future version. Specify a dtype explicitly to silence this warning.\n",
      "  \"\"\"Entry point for launching an IPython kernel.\n"
     ]
    }
   ],
   "source": [
    "prediction = pd.Series([])"
   ]
  },
  {
   "cell_type": "code",
   "execution_count": 295,
   "metadata": {},
   "outputs": [],
   "source": [
    "for i in range(len(pred_array)):\n",
    "    if(pred_array[i]==\"correct\"):\n",
    "        prediction[i]=1\n",
    "    else:\n",
    "        prediction[i]=0"
   ]
  },
  {
   "cell_type": "code",
   "execution_count": 296,
   "metadata": {},
   "outputs": [],
   "source": [
    "test[\"prediction\"]=prediction"
   ]
  },
  {
   "cell_type": "code",
   "execution_count": 297,
   "metadata": {},
   "outputs": [
    {
     "data": {
      "text/html": [
       "<div>\n",
       "<style scoped>\n",
       "    .dataframe tbody tr th:only-of-type {\n",
       "        vertical-align: middle;\n",
       "    }\n",
       "\n",
       "    .dataframe tbody tr th {\n",
       "        vertical-align: top;\n",
       "    }\n",
       "\n",
       "    .dataframe thead th {\n",
       "        text-align: right;\n",
       "    }\n",
       "</style>\n",
       "<table border=\"1\" class=\"dataframe\">\n",
       "  <thead>\n",
       "    <tr style=\"text-align: right;\">\n",
       "      <th></th>\n",
       "      <th>tripid</th>\n",
       "      <th>additional_fare</th>\n",
       "      <th>duration</th>\n",
       "      <th>meter_waiting</th>\n",
       "      <th>meter_waiting_fare</th>\n",
       "      <th>meter_waiting_till_pickup</th>\n",
       "      <th>pickup_time</th>\n",
       "      <th>drop_time</th>\n",
       "      <th>pick_lat</th>\n",
       "      <th>pick_lon</th>\n",
       "      <th>drop_lat</th>\n",
       "      <th>drop_lon</th>\n",
       "      <th>fare</th>\n",
       "      <th>prediction</th>\n",
       "    </tr>\n",
       "  </thead>\n",
       "  <tbody>\n",
       "    <tr>\n",
       "      <th>0</th>\n",
       "      <td>213284604</td>\n",
       "      <td>10.5</td>\n",
       "      <td>924</td>\n",
       "      <td>42</td>\n",
       "      <td>2.44860</td>\n",
       "      <td>148</td>\n",
       "      <td>2/1/2020 0:38</td>\n",
       "      <td>2/1/2020 0:53</td>\n",
       "      <td>6.83454</td>\n",
       "      <td>79.8750</td>\n",
       "      <td>6.77490</td>\n",
       "      <td>79.8840</td>\n",
       "      <td>289.27</td>\n",
       "      <td>1</td>\n",
       "    </tr>\n",
       "    <tr>\n",
       "      <th>1</th>\n",
       "      <td>213286352</td>\n",
       "      <td>10.5</td>\n",
       "      <td>4249</td>\n",
       "      <td>20</td>\n",
       "      <td>0.00000</td>\n",
       "      <td>91</td>\n",
       "      <td>2/1/2020 1:02</td>\n",
       "      <td>2/1/2020 2:13</td>\n",
       "      <td>6.91168</td>\n",
       "      <td>79.8723</td>\n",
       "      <td>6.55091</td>\n",
       "      <td>79.9706</td>\n",
       "      <td>1912.70</td>\n",
       "      <td>1</td>\n",
       "    </tr>\n",
       "    <tr>\n",
       "      <th>2</th>\n",
       "      <td>213293973</td>\n",
       "      <td>10.5</td>\n",
       "      <td>1552</td>\n",
       "      <td>255</td>\n",
       "      <td>2.65880</td>\n",
       "      <td>23</td>\n",
       "      <td>2/1/2020 5:02</td>\n",
       "      <td>2/1/2020 5:28</td>\n",
       "      <td>6.92145</td>\n",
       "      <td>79.8478</td>\n",
       "      <td>6.90539</td>\n",
       "      <td>79.8989</td>\n",
       "      <td>394.00</td>\n",
       "      <td>1</td>\n",
       "    </tr>\n",
       "    <tr>\n",
       "      <th>3</th>\n",
       "      <td>213294622</td>\n",
       "      <td>10.5</td>\n",
       "      <td>462</td>\n",
       "      <td>16</td>\n",
       "      <td>0.00000</td>\n",
       "      <td>198</td>\n",
       "      <td>2/1/2020 5:30</td>\n",
       "      <td>2/1/2020 5:38</td>\n",
       "      <td>6.77433</td>\n",
       "      <td>79.9416</td>\n",
       "      <td>6.80401</td>\n",
       "      <td>79.9407</td>\n",
       "      <td>154.32</td>\n",
       "      <td>1</td>\n",
       "    </tr>\n",
       "    <tr>\n",
       "      <th>4</th>\n",
       "      <td>213298687</td>\n",
       "      <td>10.5</td>\n",
       "      <td>814</td>\n",
       "      <td>392</td>\n",
       "      <td>12.36920</td>\n",
       "      <td>69</td>\n",
       "      <td>2/1/2020 7:00</td>\n",
       "      <td>2/1/2020 7:14</td>\n",
       "      <td>6.97968</td>\n",
       "      <td>79.9130</td>\n",
       "      <td>6.98875</td>\n",
       "      <td>79.8914</td>\n",
       "      <td>147.47</td>\n",
       "      <td>1</td>\n",
       "    </tr>\n",
       "    <tr>\n",
       "      <th>...</th>\n",
       "      <td>...</td>\n",
       "      <td>...</td>\n",
       "      <td>...</td>\n",
       "      <td>...</td>\n",
       "      <td>...</td>\n",
       "      <td>...</td>\n",
       "      <td>...</td>\n",
       "      <td>...</td>\n",
       "      <td>...</td>\n",
       "      <td>...</td>\n",
       "      <td>...</td>\n",
       "      <td>...</td>\n",
       "      <td>...</td>\n",
       "      <td>...</td>\n",
       "    </tr>\n",
       "    <tr>\n",
       "      <th>8571</th>\n",
       "      <td>222856243</td>\n",
       "      <td>10.5</td>\n",
       "      <td>1723</td>\n",
       "      <td>429</td>\n",
       "      <td>24.83332</td>\n",
       "      <td>3</td>\n",
       "      <td>3/16/2020 21:28</td>\n",
       "      <td>3/16/2020 21:56</td>\n",
       "      <td>6.85103</td>\n",
       "      <td>79.9567</td>\n",
       "      <td>6.85588</td>\n",
       "      <td>79.9214</td>\n",
       "      <td>388.48</td>\n",
       "      <td>1</td>\n",
       "    </tr>\n",
       "    <tr>\n",
       "      <th>8572</th>\n",
       "      <td>222857785</td>\n",
       "      <td>10.5</td>\n",
       "      <td>1378</td>\n",
       "      <td>80</td>\n",
       "      <td>0.00000</td>\n",
       "      <td>125</td>\n",
       "      <td>3/16/2020 21:59</td>\n",
       "      <td>3/16/2020 22:22</td>\n",
       "      <td>6.91293</td>\n",
       "      <td>79.9656</td>\n",
       "      <td>6.92112</td>\n",
       "      <td>79.8980</td>\n",
       "      <td>379.85</td>\n",
       "      <td>1</td>\n",
       "    </tr>\n",
       "    <tr>\n",
       "      <th>8573</th>\n",
       "      <td>222858416</td>\n",
       "      <td>10.5</td>\n",
       "      <td>418</td>\n",
       "      <td>56</td>\n",
       "      <td>3.28440</td>\n",
       "      <td>93</td>\n",
       "      <td>3/16/2020 22:02</td>\n",
       "      <td>3/16/2020 22:09</td>\n",
       "      <td>6.85718</td>\n",
       "      <td>79.9081</td>\n",
       "      <td>6.83868</td>\n",
       "      <td>79.9083</td>\n",
       "      <td>112.79</td>\n",
       "      <td>1</td>\n",
       "    </tr>\n",
       "    <tr>\n",
       "      <th>8574</th>\n",
       "      <td>222858691</td>\n",
       "      <td>10.5</td>\n",
       "      <td>1604</td>\n",
       "      <td>548</td>\n",
       "      <td>31.67440</td>\n",
       "      <td>17</td>\n",
       "      <td>3/16/2020 22:07</td>\n",
       "      <td>3/16/2020 22:34</td>\n",
       "      <td>6.91289</td>\n",
       "      <td>79.8846</td>\n",
       "      <td>6.93159</td>\n",
       "      <td>79.9145</td>\n",
       "      <td>248.46</td>\n",
       "      <td>1</td>\n",
       "    </tr>\n",
       "    <tr>\n",
       "      <th>8575</th>\n",
       "      <td>222860703</td>\n",
       "      <td>10.5</td>\n",
       "      <td>1698</td>\n",
       "      <td>691</td>\n",
       "      <td>32.88820</td>\n",
       "      <td>42</td>\n",
       "      <td>3/16/2020 22:58</td>\n",
       "      <td>3/16/2020 23:26</td>\n",
       "      <td>6.91682</td>\n",
       "      <td>79.9192</td>\n",
       "      <td>6.87020</td>\n",
       "      <td>79.9340</td>\n",
       "      <td>339.63</td>\n",
       "      <td>1</td>\n",
       "    </tr>\n",
       "  </tbody>\n",
       "</table>\n",
       "<p>8576 rows × 14 columns</p>\n",
       "</div>"
      ],
      "text/plain": [
       "         tripid  additional_fare  duration  meter_waiting  meter_waiting_fare  \\\n",
       "0     213284604             10.5       924             42             2.44860   \n",
       "1     213286352             10.5      4249             20             0.00000   \n",
       "2     213293973             10.5      1552            255             2.65880   \n",
       "3     213294622             10.5       462             16             0.00000   \n",
       "4     213298687             10.5       814            392            12.36920   \n",
       "...         ...              ...       ...            ...                 ...   \n",
       "8571  222856243             10.5      1723            429            24.83332   \n",
       "8572  222857785             10.5      1378             80             0.00000   \n",
       "8573  222858416             10.5       418             56             3.28440   \n",
       "8574  222858691             10.5      1604            548            31.67440   \n",
       "8575  222860703             10.5      1698            691            32.88820   \n",
       "\n",
       "      meter_waiting_till_pickup      pickup_time        drop_time  pick_lat  \\\n",
       "0                           148    2/1/2020 0:38    2/1/2020 0:53   6.83454   \n",
       "1                            91    2/1/2020 1:02    2/1/2020 2:13   6.91168   \n",
       "2                            23    2/1/2020 5:02    2/1/2020 5:28   6.92145   \n",
       "3                           198    2/1/2020 5:30    2/1/2020 5:38   6.77433   \n",
       "4                            69    2/1/2020 7:00    2/1/2020 7:14   6.97968   \n",
       "...                         ...              ...              ...       ...   \n",
       "8571                          3  3/16/2020 21:28  3/16/2020 21:56   6.85103   \n",
       "8572                        125  3/16/2020 21:59  3/16/2020 22:22   6.91293   \n",
       "8573                         93  3/16/2020 22:02  3/16/2020 22:09   6.85718   \n",
       "8574                         17  3/16/2020 22:07  3/16/2020 22:34   6.91289   \n",
       "8575                         42  3/16/2020 22:58  3/16/2020 23:26   6.91682   \n",
       "\n",
       "      pick_lon  drop_lat  drop_lon     fare  prediction  \n",
       "0      79.8750   6.77490   79.8840   289.27           1  \n",
       "1      79.8723   6.55091   79.9706  1912.70           1  \n",
       "2      79.8478   6.90539   79.8989   394.00           1  \n",
       "3      79.9416   6.80401   79.9407   154.32           1  \n",
       "4      79.9130   6.98875   79.8914   147.47           1  \n",
       "...        ...       ...       ...      ...         ...  \n",
       "8571   79.9567   6.85588   79.9214   388.48           1  \n",
       "8572   79.9656   6.92112   79.8980   379.85           1  \n",
       "8573   79.9081   6.83868   79.9083   112.79           1  \n",
       "8574   79.8846   6.93159   79.9145   248.46           1  \n",
       "8575   79.9192   6.87020   79.9340   339.63           1  \n",
       "\n",
       "[8576 rows x 14 columns]"
      ]
     },
     "execution_count": 297,
     "metadata": {},
     "output_type": "execute_result"
    }
   ],
   "source": [
    "test"
   ]
  },
  {
   "cell_type": "code",
   "execution_count": 298,
   "metadata": {},
   "outputs": [],
   "source": [
    "output = test.drop(columns=[\"additional_fare\",\"duration\",\"meter_waiting\",\"meter_waiting_fare\",\"meter_waiting_till_pickup\",\"pickup_time\",\"drop_time\",\"pick_lat\",\"pick_lon\",\"drop_lat\",\"drop_lon\",\"fare\"])"
   ]
  },
  {
   "cell_type": "code",
   "execution_count": 299,
   "metadata": {},
   "outputs": [
    {
     "data": {
      "text/html": [
       "<div>\n",
       "<style scoped>\n",
       "    .dataframe tbody tr th:only-of-type {\n",
       "        vertical-align: middle;\n",
       "    }\n",
       "\n",
       "    .dataframe tbody tr th {\n",
       "        vertical-align: top;\n",
       "    }\n",
       "\n",
       "    .dataframe thead th {\n",
       "        text-align: right;\n",
       "    }\n",
       "</style>\n",
       "<table border=\"1\" class=\"dataframe\">\n",
       "  <thead>\n",
       "    <tr style=\"text-align: right;\">\n",
       "      <th></th>\n",
       "      <th>tripid</th>\n",
       "      <th>prediction</th>\n",
       "    </tr>\n",
       "  </thead>\n",
       "  <tbody>\n",
       "    <tr>\n",
       "      <th>0</th>\n",
       "      <td>213284604</td>\n",
       "      <td>1</td>\n",
       "    </tr>\n",
       "    <tr>\n",
       "      <th>1</th>\n",
       "      <td>213286352</td>\n",
       "      <td>1</td>\n",
       "    </tr>\n",
       "    <tr>\n",
       "      <th>2</th>\n",
       "      <td>213293973</td>\n",
       "      <td>1</td>\n",
       "    </tr>\n",
       "    <tr>\n",
       "      <th>3</th>\n",
       "      <td>213294622</td>\n",
       "      <td>1</td>\n",
       "    </tr>\n",
       "    <tr>\n",
       "      <th>4</th>\n",
       "      <td>213298687</td>\n",
       "      <td>1</td>\n",
       "    </tr>\n",
       "    <tr>\n",
       "      <th>...</th>\n",
       "      <td>...</td>\n",
       "      <td>...</td>\n",
       "    </tr>\n",
       "    <tr>\n",
       "      <th>8571</th>\n",
       "      <td>222856243</td>\n",
       "      <td>1</td>\n",
       "    </tr>\n",
       "    <tr>\n",
       "      <th>8572</th>\n",
       "      <td>222857785</td>\n",
       "      <td>1</td>\n",
       "    </tr>\n",
       "    <tr>\n",
       "      <th>8573</th>\n",
       "      <td>222858416</td>\n",
       "      <td>1</td>\n",
       "    </tr>\n",
       "    <tr>\n",
       "      <th>8574</th>\n",
       "      <td>222858691</td>\n",
       "      <td>1</td>\n",
       "    </tr>\n",
       "    <tr>\n",
       "      <th>8575</th>\n",
       "      <td>222860703</td>\n",
       "      <td>1</td>\n",
       "    </tr>\n",
       "  </tbody>\n",
       "</table>\n",
       "<p>8576 rows × 2 columns</p>\n",
       "</div>"
      ],
      "text/plain": [
       "         tripid  prediction\n",
       "0     213284604           1\n",
       "1     213286352           1\n",
       "2     213293973           1\n",
       "3     213294622           1\n",
       "4     213298687           1\n",
       "...         ...         ...\n",
       "8571  222856243           1\n",
       "8572  222857785           1\n",
       "8573  222858416           1\n",
       "8574  222858691           1\n",
       "8575  222860703           1\n",
       "\n",
       "[8576 rows x 2 columns]"
      ]
     },
     "execution_count": 299,
     "metadata": {},
     "output_type": "execute_result"
    }
   ],
   "source": [
    "output"
   ]
  },
  {
   "cell_type": "code",
   "execution_count": 300,
   "metadata": {},
   "outputs": [],
   "source": [
    "output.to_csv(\"outputnew21.csv\", index=False)"
   ]
  },
  {
   "cell_type": "code",
   "execution_count": 225,
   "metadata": {},
   "outputs": [
    {
     "ename": "AttributeError",
     "evalue": "'XGBClassifier' object has no attribute 'decision_function'",
     "output_type": "error",
     "traceback": [
      "\u001b[0;31m---------------------------------------------------------------------------\u001b[0m",
      "\u001b[0;31mAttributeError\u001b[0m                            Traceback (most recent call last)",
      "\u001b[0;32m<ipython-input-225-29b9b918b1d5>\u001b[0m in \u001b[0;36m<module>\u001b[0;34m\u001b[0m\n\u001b[0;32m----> 1\u001b[0;31m \u001b[0mscore_array\u001b[0m \u001b[0;34m=\u001b[0m \u001b[0mclassifier\u001b[0m\u001b[0;34m.\u001b[0m\u001b[0mdecision_function\u001b[0m\u001b[0;34m(\u001b[0m\u001b[0mX_test\u001b[0m\u001b[0;34m)\u001b[0m\u001b[0;34m\u001b[0m\u001b[0;34m\u001b[0m\u001b[0m\n\u001b[0m",
      "\u001b[0;31mAttributeError\u001b[0m: 'XGBClassifier' object has no attribute 'decision_function'"
     ]
    }
   ],
   "source": [
    "score_array = classifier.decision_function(X_test)"
   ]
  },
  {
   "cell_type": "code",
   "execution_count": 165,
   "metadata": {},
   "outputs": [
    {
     "data": {
      "text/plain": [
       "array([-5276518.15215528, -3595887.97202781,  -605393.08020877, ...,\n",
       "       -7882550.17106089,   199985.85246233,  8935023.14647431])"
      ]
     },
     "execution_count": 165,
     "metadata": {},
     "output_type": "execute_result"
    }
   ],
   "source": [
    "score_array"
   ]
  },
  {
   "cell_type": "code",
   "execution_count": 132,
   "metadata": {},
   "outputs": [
    {
     "name": "stdout",
     "output_type": "stream",
     "text": [
      "[ -4068934.75229342 -19117903.7403775   -4691383.50523758 ...\n",
      "  -1534420.3083327   -2133882.22011674  -1181838.02167688]\n"
     ]
    }
   ],
   "source": [
    "print(score_array)"
   ]
  },
  {
   "cell_type": "code",
   "execution_count": 166,
   "metadata": {},
   "outputs": [],
   "source": [
    "datanew={}"
   ]
  },
  {
   "cell_type": "code",
   "execution_count": 167,
   "metadata": {},
   "outputs": [],
   "source": [
    "datanew[\"pred_array\"]=y_train_pred"
   ]
  },
  {
   "cell_type": "code",
   "execution_count": 168,
   "metadata": {},
   "outputs": [],
   "source": [
    "datanew[\"score_array\"]=score_array"
   ]
  },
  {
   "cell_type": "code",
   "execution_count": 169,
   "metadata": {},
   "outputs": [
    {
     "data": {
      "text/plain": [
       "{'pred_array': array(['correct', 'correct', 'correct', ..., 'correct', 'correct',\n",
       "        'correct'], dtype='<U9'),\n",
       " 'score_array': array([-5276518.15215528, -3595887.97202781,  -605393.08020877, ...,\n",
       "        -7882550.17106089,   199985.85246233,  8935023.14647431])}"
      ]
     },
     "execution_count": 169,
     "metadata": {},
     "output_type": "execute_result"
    }
   ],
   "source": [
    "datanew"
   ]
  },
  {
   "cell_type": "code",
   "execution_count": 170,
   "metadata": {},
   "outputs": [],
   "source": [
    "newDataFrame=pd.DataFrame(datanew)"
   ]
  },
  {
   "cell_type": "code",
   "execution_count": 171,
   "metadata": {},
   "outputs": [
    {
     "data": {
      "text/html": [
       "<div>\n",
       "<style scoped>\n",
       "    .dataframe tbody tr th:only-of-type {\n",
       "        vertical-align: middle;\n",
       "    }\n",
       "\n",
       "    .dataframe tbody tr th {\n",
       "        vertical-align: top;\n",
       "    }\n",
       "\n",
       "    .dataframe thead th {\n",
       "        text-align: right;\n",
       "    }\n",
       "</style>\n",
       "<table border=\"1\" class=\"dataframe\">\n",
       "  <thead>\n",
       "    <tr style=\"text-align: right;\">\n",
       "      <th></th>\n",
       "      <th>pred_array</th>\n",
       "      <th>score_array</th>\n",
       "    </tr>\n",
       "  </thead>\n",
       "  <tbody>\n",
       "    <tr>\n",
       "      <th>0</th>\n",
       "      <td>correct</td>\n",
       "      <td>-5.276518e+06</td>\n",
       "    </tr>\n",
       "    <tr>\n",
       "      <th>1</th>\n",
       "      <td>correct</td>\n",
       "      <td>-3.595888e+06</td>\n",
       "    </tr>\n",
       "    <tr>\n",
       "      <th>2</th>\n",
       "      <td>correct</td>\n",
       "      <td>-6.053931e+05</td>\n",
       "    </tr>\n",
       "    <tr>\n",
       "      <th>3</th>\n",
       "      <td>correct</td>\n",
       "      <td>1.308192e+06</td>\n",
       "    </tr>\n",
       "    <tr>\n",
       "      <th>4</th>\n",
       "      <td>correct</td>\n",
       "      <td>-2.035289e+05</td>\n",
       "    </tr>\n",
       "    <tr>\n",
       "      <th>...</th>\n",
       "      <td>...</td>\n",
       "      <td>...</td>\n",
       "    </tr>\n",
       "    <tr>\n",
       "      <th>4563</th>\n",
       "      <td>correct</td>\n",
       "      <td>1.261317e+07</td>\n",
       "    </tr>\n",
       "    <tr>\n",
       "      <th>4564</th>\n",
       "      <td>correct</td>\n",
       "      <td>-1.048556e+06</td>\n",
       "    </tr>\n",
       "    <tr>\n",
       "      <th>4565</th>\n",
       "      <td>correct</td>\n",
       "      <td>-7.882550e+06</td>\n",
       "    </tr>\n",
       "    <tr>\n",
       "      <th>4566</th>\n",
       "      <td>correct</td>\n",
       "      <td>1.999859e+05</td>\n",
       "    </tr>\n",
       "    <tr>\n",
       "      <th>4567</th>\n",
       "      <td>correct</td>\n",
       "      <td>8.935023e+06</td>\n",
       "    </tr>\n",
       "  </tbody>\n",
       "</table>\n",
       "<p>4568 rows × 2 columns</p>\n",
       "</div>"
      ],
      "text/plain": [
       "     pred_array   score_array\n",
       "0       correct -5.276518e+06\n",
       "1       correct -3.595888e+06\n",
       "2       correct -6.053931e+05\n",
       "3       correct  1.308192e+06\n",
       "4       correct -2.035289e+05\n",
       "...         ...           ...\n",
       "4563    correct  1.261317e+07\n",
       "4564    correct -1.048556e+06\n",
       "4565    correct -7.882550e+06\n",
       "4566    correct  1.999859e+05\n",
       "4567    correct  8.935023e+06\n",
       "\n",
       "[4568 rows x 2 columns]"
      ]
     },
     "execution_count": 171,
     "metadata": {},
     "output_type": "execute_result"
    }
   ],
   "source": [
    "newDataFrame"
   ]
  },
  {
   "cell_type": "code",
   "execution_count": 172,
   "metadata": {},
   "outputs": [],
   "source": [
    "newDataFrame.to_csv(\"newDataFrame.csv\")"
   ]
  },
  {
   "cell_type": "code",
   "execution_count": 187,
   "metadata": {},
   "outputs": [],
   "source": [
    "threshold = -500000"
   ]
  },
  {
   "cell_type": "code",
   "execution_count": 188,
   "metadata": {},
   "outputs": [],
   "source": [
    "y_some_digit_pred = (score_array < threshold)"
   ]
  },
  {
   "cell_type": "code",
   "execution_count": 189,
   "metadata": {},
   "outputs": [
    {
     "data": {
      "text/plain": [
       "array([ True,  True,  True, ...,  True, False, False])"
      ]
     },
     "execution_count": 189,
     "metadata": {},
     "output_type": "execute_result"
    }
   ],
   "source": [
    "y_some_digit_pred"
   ]
  },
  {
   "cell_type": "code",
   "execution_count": 190,
   "metadata": {},
   "outputs": [
    {
     "name": "stderr",
     "output_type": "stream",
     "text": [
      "/home/sri/Desktop/sem7/ML/my_project_env/lib/python3.6/site-packages/ipykernel_launcher.py:1: DeprecationWarning: The default dtype for empty Series will be 'object' instead of 'float64' in a future version. Specify a dtype explicitly to silence this warning.\n",
      "  \"\"\"Entry point for launching an IPython kernel.\n"
     ]
    }
   ],
   "source": [
    "new_pred = pd.Series([])"
   ]
  },
  {
   "cell_type": "code",
   "execution_count": 191,
   "metadata": {},
   "outputs": [],
   "source": [
    "for i in range(len(y_some_digit_pred)):\n",
    "    if(y_some_digit_pred[i]==True):\n",
    "        new_pred[i]=\"correct\"\n",
    "    else:\n",
    "        new_pred[i]=\"incorrect\""
   ]
  },
  {
   "cell_type": "code",
   "execution_count": 192,
   "metadata": {},
   "outputs": [
    {
     "data": {
      "text/plain": [
       "0         correct\n",
       "1         correct\n",
       "2         correct\n",
       "3       incorrect\n",
       "4       incorrect\n",
       "          ...    \n",
       "4563    incorrect\n",
       "4564      correct\n",
       "4565      correct\n",
       "4566    incorrect\n",
       "4567    incorrect\n",
       "Length: 4568, dtype: object"
      ]
     },
     "execution_count": 192,
     "metadata": {},
     "output_type": "execute_result"
    }
   ],
   "source": [
    "new_pred"
   ]
  },
  {
   "cell_type": "code",
   "execution_count": 193,
   "metadata": {},
   "outputs": [
    {
     "data": {
      "text/plain": [
       "array([[3976,  466],\n",
       "       [  78,   48]])"
      ]
     },
     "execution_count": 193,
     "metadata": {},
     "output_type": "execute_result"
    }
   ],
   "source": [
    "confusion_matrix(y_test, new_pred)"
   ]
  },
  {
   "cell_type": "code",
   "execution_count": null,
   "metadata": {},
   "outputs": [],
   "source": []
  }
 ],
 "metadata": {
  "kernelspec": {
   "display_name": "Python 3.6.9 64-bit ('my_project_env': venv)",
   "language": "python",
   "name": "python36964bitmyprojectenvvenvad1e6ff51e5d4fd9ac9aa495dfbb924b"
  },
  "language_info": {
   "codemirror_mode": {
    "name": "ipython",
    "version": 3
   },
   "file_extension": ".py",
   "mimetype": "text/x-python",
   "name": "python",
   "nbconvert_exporter": "python",
   "pygments_lexer": "ipython3",
   "version": "3.6.9"
  }
 },
 "nbformat": 4,
 "nbformat_minor": 4
}
